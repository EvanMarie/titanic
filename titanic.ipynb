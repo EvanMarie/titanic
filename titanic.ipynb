{
 "cells": [
  {
   "cell_type": "markdown",
   "metadata": {
    "id": "eL0K4gBGBabp"
   },
   "source": [
    "<img src=\"http://www.evanmarie.com/content/files/notebook_images/titanic.png\" width=800>\n",
    "\n",
    "# Titanic Predictions:\n",
    "\n",
    "### Predicting whether a passenger survived or perished\n",
    "\n",
    "- Source: [Kaggle Competition Link](https://www.kaggle.com/competitions/titanic/data)\n",
    "<br>\n",
    "- Source: [Why you should use a framework](https://www.kaggle.com/code/jhoward/why-you-should-use-a-framework)"
   ]
  },
  {
   "cell_type": "markdown",
   "metadata": {
    "id": "0xwQRWIYHO0t"
   },
   "source": [
    "# Fast.ai Version:"
   ]
  },
  {
   "cell_type": "markdown",
   "metadata": {},
   "source": [
    "## Installing and Importing:"
   ]
  },
  {
   "cell_type": "code",
   "execution_count": 1,
   "metadata": {
    "id": "rfpsfFIL9Gf9"
   },
   "outputs": [],
   "source": [
    "%%capture\n",
    "!pip install torch.torchvision\n",
    "!pip install -Uqq fastai\n",
    "!pip install nbdev\n",
    "from fastai.collab import *\n",
    "import fastai\n",
    "from fastai.tabular.all import *\n",
    "import pandas as pd"
   ]
  },
  {
   "cell_type": "markdown",
   "metadata": {},
   "source": [
    "## Wrangling the data:"
   ]
  },
  {
   "cell_type": "code",
   "execution_count": 2,
   "metadata": {
    "id": "SJfEG7359OFn"
   },
   "outputs": [],
   "source": [
    "from urllib.request import urlretrieve\n",
    "url = \"http://www.evanmarie.com/content/files/datasets/titanic.zip\"\n",
    "urlretrieve(url, 'titanic.zip')\n",
    "\n",
    "from zipfile import ZipFile\n",
    "with ZipFile('titanic.zip') as file:\n",
    "  file.extractall()\n",
    "path = Path()\n",
    "pd.options.display.float_format = '{:.2f}'.format"
   ]
  },
  {
   "cell_type": "code",
   "execution_count": 6,
   "metadata": {
    "id": "fvsvj8eX9-oq"
   },
   "outputs": [],
   "source": [
    "train_df = pd.read_csv('train.csv')\n",
    "test_df = pd.read_csv('test.csv')"
   ]
  },
  {
   "cell_type": "markdown",
   "metadata": {},
   "source": [
    "## Investigating the data:"
   ]
  },
  {
   "cell_type": "code",
   "execution_count": 7,
   "metadata": {
    "colab": {
     "base_uri": "https://localhost:8080/",
     "height": 222
    },
    "executionInfo": {
     "elapsed": 118,
     "status": "ok",
     "timestamp": 1668822128126,
     "user": {
      "displayName": "Evan Carr Homeschool",
      "userId": "06914599846009526611"
     },
     "user_tz": 300
    },
    "id": "Ad3giCk2-qy0",
    "outputId": "0350810e-7d7d-419c-885e-64fca7aee846"
   },
   "outputs": [
    {
     "data": {
      "text/html": [
       "<div>\n",
       "<style scoped>\n",
       "    .dataframe tbody tr th:only-of-type {\n",
       "        vertical-align: middle;\n",
       "    }\n",
       "\n",
       "    .dataframe tbody tr th {\n",
       "        vertical-align: top;\n",
       "    }\n",
       "\n",
       "    .dataframe thead th {\n",
       "        text-align: right;\n",
       "    }\n",
       "</style>\n",
       "<table border=\"1\" class=\"dataframe\">\n",
       "  <thead>\n",
       "    <tr style=\"text-align: right;\">\n",
       "      <th></th>\n",
       "      <th>PassengerId</th>\n",
       "      <th>Survived</th>\n",
       "      <th>Pclass</th>\n",
       "      <th>Name</th>\n",
       "      <th>Sex</th>\n",
       "      <th>Age</th>\n",
       "      <th>SibSp</th>\n",
       "      <th>Parch</th>\n",
       "      <th>Ticket</th>\n",
       "      <th>Fare</th>\n",
       "      <th>Cabin</th>\n",
       "      <th>Embarked</th>\n",
       "    </tr>\n",
       "  </thead>\n",
       "  <tbody>\n",
       "    <tr>\n",
       "      <th>0</th>\n",
       "      <td>1</td>\n",
       "      <td>0</td>\n",
       "      <td>3</td>\n",
       "      <td>Braund, Mr. Owen Harris</td>\n",
       "      <td>male</td>\n",
       "      <td>22.00</td>\n",
       "      <td>1</td>\n",
       "      <td>0</td>\n",
       "      <td>A/5 21171</td>\n",
       "      <td>7.25</td>\n",
       "      <td>NaN</td>\n",
       "      <td>S</td>\n",
       "    </tr>\n",
       "    <tr>\n",
       "      <th>1</th>\n",
       "      <td>2</td>\n",
       "      <td>1</td>\n",
       "      <td>1</td>\n",
       "      <td>Cumings, Mrs. John Bradley (Florence Briggs Thayer)</td>\n",
       "      <td>female</td>\n",
       "      <td>38.00</td>\n",
       "      <td>1</td>\n",
       "      <td>0</td>\n",
       "      <td>PC 17599</td>\n",
       "      <td>71.28</td>\n",
       "      <td>C85</td>\n",
       "      <td>C</td>\n",
       "    </tr>\n",
       "    <tr>\n",
       "      <th>2</th>\n",
       "      <td>3</td>\n",
       "      <td>1</td>\n",
       "      <td>3</td>\n",
       "      <td>Heikkinen, Miss. Laina</td>\n",
       "      <td>female</td>\n",
       "      <td>26.00</td>\n",
       "      <td>0</td>\n",
       "      <td>0</td>\n",
       "      <td>STON/O2. 3101282</td>\n",
       "      <td>7.92</td>\n",
       "      <td>NaN</td>\n",
       "      <td>S</td>\n",
       "    </tr>\n",
       "  </tbody>\n",
       "</table>\n",
       "</div>"
      ],
      "text/plain": [
       "   PassengerId  Survived  Pclass  \\\n",
       "0            1         0       3   \n",
       "1            2         1       1   \n",
       "2            3         1       3   \n",
       "\n",
       "                                                  Name     Sex   Age  SibSp  \\\n",
       "0                              Braund, Mr. Owen Harris    male 22.00      1   \n",
       "1  Cumings, Mrs. John Bradley (Florence Briggs Thayer)  female 38.00      1   \n",
       "2                               Heikkinen, Miss. Laina  female 26.00      0   \n",
       "\n",
       "   Parch            Ticket  Fare Cabin Embarked  \n",
       "0      0         A/5 21171  7.25   NaN        S  \n",
       "1      0          PC 17599 71.28   C85        C  \n",
       "2      0  STON/O2. 3101282  7.92   NaN        S  "
      ]
     },
     "execution_count": 7,
     "metadata": {},
     "output_type": "execute_result"
    }
   ],
   "source": [
    "train_df.head(3)"
   ]
  },
  {
   "cell_type": "code",
   "execution_count": 8,
   "metadata": {},
   "outputs": [
    {
     "data": {
      "text/html": [
       "<div>\n",
       "<style scoped>\n",
       "    .dataframe tbody tr th:only-of-type {\n",
       "        vertical-align: middle;\n",
       "    }\n",
       "\n",
       "    .dataframe tbody tr th {\n",
       "        vertical-align: top;\n",
       "    }\n",
       "\n",
       "    .dataframe thead th {\n",
       "        text-align: right;\n",
       "    }\n",
       "</style>\n",
       "<table border=\"1\" class=\"dataframe\">\n",
       "  <thead>\n",
       "    <tr style=\"text-align: right;\">\n",
       "      <th></th>\n",
       "      <th>PassengerId</th>\n",
       "      <th>Survived</th>\n",
       "      <th>Pclass</th>\n",
       "      <th>Age</th>\n",
       "      <th>SibSp</th>\n",
       "      <th>Parch</th>\n",
       "      <th>Fare</th>\n",
       "    </tr>\n",
       "  </thead>\n",
       "  <tbody>\n",
       "    <tr>\n",
       "      <th>count</th>\n",
       "      <td>891.00</td>\n",
       "      <td>891.00</td>\n",
       "      <td>891.00</td>\n",
       "      <td>714.00</td>\n",
       "      <td>891.00</td>\n",
       "      <td>891.00</td>\n",
       "      <td>891.00</td>\n",
       "    </tr>\n",
       "    <tr>\n",
       "      <th>mean</th>\n",
       "      <td>446.00</td>\n",
       "      <td>0.38</td>\n",
       "      <td>2.31</td>\n",
       "      <td>29.70</td>\n",
       "      <td>0.52</td>\n",
       "      <td>0.38</td>\n",
       "      <td>32.20</td>\n",
       "    </tr>\n",
       "    <tr>\n",
       "      <th>std</th>\n",
       "      <td>257.35</td>\n",
       "      <td>0.49</td>\n",
       "      <td>0.84</td>\n",
       "      <td>14.53</td>\n",
       "      <td>1.10</td>\n",
       "      <td>0.81</td>\n",
       "      <td>49.69</td>\n",
       "    </tr>\n",
       "    <tr>\n",
       "      <th>min</th>\n",
       "      <td>1.00</td>\n",
       "      <td>0.00</td>\n",
       "      <td>1.00</td>\n",
       "      <td>0.42</td>\n",
       "      <td>0.00</td>\n",
       "      <td>0.00</td>\n",
       "      <td>0.00</td>\n",
       "    </tr>\n",
       "    <tr>\n",
       "      <th>25%</th>\n",
       "      <td>223.50</td>\n",
       "      <td>0.00</td>\n",
       "      <td>2.00</td>\n",
       "      <td>20.12</td>\n",
       "      <td>0.00</td>\n",
       "      <td>0.00</td>\n",
       "      <td>7.91</td>\n",
       "    </tr>\n",
       "    <tr>\n",
       "      <th>50%</th>\n",
       "      <td>446.00</td>\n",
       "      <td>0.00</td>\n",
       "      <td>3.00</td>\n",
       "      <td>28.00</td>\n",
       "      <td>0.00</td>\n",
       "      <td>0.00</td>\n",
       "      <td>14.45</td>\n",
       "    </tr>\n",
       "    <tr>\n",
       "      <th>75%</th>\n",
       "      <td>668.50</td>\n",
       "      <td>1.00</td>\n",
       "      <td>3.00</td>\n",
       "      <td>38.00</td>\n",
       "      <td>1.00</td>\n",
       "      <td>0.00</td>\n",
       "      <td>31.00</td>\n",
       "    </tr>\n",
       "    <tr>\n",
       "      <th>max</th>\n",
       "      <td>891.00</td>\n",
       "      <td>1.00</td>\n",
       "      <td>3.00</td>\n",
       "      <td>80.00</td>\n",
       "      <td>8.00</td>\n",
       "      <td>6.00</td>\n",
       "      <td>512.33</td>\n",
       "    </tr>\n",
       "  </tbody>\n",
       "</table>\n",
       "</div>"
      ],
      "text/plain": [
       "       PassengerId  Survived  Pclass    Age  SibSp  Parch   Fare\n",
       "count       891.00    891.00  891.00 714.00 891.00 891.00 891.00\n",
       "mean        446.00      0.38    2.31  29.70   0.52   0.38  32.20\n",
       "std         257.35      0.49    0.84  14.53   1.10   0.81  49.69\n",
       "min           1.00      0.00    1.00   0.42   0.00   0.00   0.00\n",
       "25%         223.50      0.00    2.00  20.12   0.00   0.00   7.91\n",
       "50%         446.00      0.00    3.00  28.00   0.00   0.00  14.45\n",
       "75%         668.50      1.00    3.00  38.00   1.00   0.00  31.00\n",
       "max         891.00      1.00    3.00  80.00   8.00   6.00 512.33"
      ]
     },
     "execution_count": 8,
     "metadata": {},
     "output_type": "execute_result"
    }
   ],
   "source": [
    "train_df.describe()"
   ]
  },
  {
   "cell_type": "code",
   "execution_count": 9,
   "metadata": {},
   "outputs": [
    {
     "name": "stdout",
     "output_type": "stream",
     "text": [
      "<class 'pandas.core.frame.DataFrame'>\n",
      "RangeIndex: 891 entries, 0 to 890\n",
      "Data columns (total 12 columns):\n",
      " #   Column       Non-Null Count  Dtype  \n",
      "---  ------       --------------  -----  \n",
      " 0   PassengerId  891 non-null    int64  \n",
      " 1   Survived     891 non-null    int64  \n",
      " 2   Pclass       891 non-null    int64  \n",
      " 3   Name         891 non-null    object \n",
      " 4   Sex          891 non-null    object \n",
      " 5   Age          714 non-null    float64\n",
      " 6   SibSp        891 non-null    int64  \n",
      " 7   Parch        891 non-null    int64  \n",
      " 8   Ticket       891 non-null    object \n",
      " 9   Fare         891 non-null    float64\n",
      " 10  Cabin        204 non-null    object \n",
      " 11  Embarked     889 non-null    object \n",
      "dtypes: float64(2), int64(5), object(5)\n",
      "memory usage: 83.7+ KB\n"
     ]
    }
   ],
   "source": [
    "train_df.info()"
   ]
  },
  {
   "cell_type": "markdown",
   "metadata": {},
   "source": [
    "## Cleaning up the data:"
   ]
  },
  {
   "cell_type": "code",
   "execution_count": null,
   "metadata": {
    "id": "wn7YMtT_-r-4"
   },
   "outputs": [],
   "source": [
    "# Clean up column names (lower case and strip spaces):\n",
    "train_df.columns = [x.lower().strip() for x in train_df.columns]\n",
    "test_df.columns = [x.lower().strip() for x in test_df.columns]\n",
    "\n",
    "# Combine train_df and test_df:\n",
    "titanic_df = pd.concat([train_df, test_df], sort=False)\n",
    "# titanic_df = train_df.copy()\n",
    "# Drop columns that are not useful:\n",
    "titanic_df.drop(['ticket', 'cabin', 'name', 'passengerid'], axis=1, inplace=True)\n",
    "\n",
    "# Rename columns:\n",
    "titanic_df = titanic_df.rename(columns={\n",
    "    'pclass': 'passenger_class',\n",
    "    'sibsp': 'siblings_spouses',\n",
    "    'parch': 'parents_children',\n",
    "    'embarked': 'embark_town'\n",
    "})"
   ]
  },
  {
   "cell_type": "code",
   "execution_count": null,
   "metadata": {
    "id": "CgLDzXFtHkB9"
   },
   "outputs": [],
   "source": [
    "# Log version of fare\n",
    "titanic_df['fare'] = np.log(titanic_df['fare'] + 1)\n",
    "\n",
    "# Alone column is 1 if no siblings/spouses or parents/children:\n",
    "titanic_df['alone'] = 0\n",
    "titanic_df.loc[(titanic_df['siblings_spouses'] == 0) & (titanic_df['parents_children'] == 0), 'alone'] = 1\n",
    "\n",
    "# Total family members:\n",
    "titanic_df['family_members'] = titanic_df['siblings_spouses'] + titanic_df['parents_children']\n",
    "# Drop the siblings_spouses and parents_children columns:\n",
    "titanic_df.drop(['siblings_spouses', 'parents_children'], axis=1, inplace=True)\n",
    "titanic_df['survived'] = titanic_df['survived'].fillna(0).astype(int)"
   ]
  },
  {
   "cell_type": "markdown",
   "metadata": {},
   "source": [
    "## The data before categorical encoding:\n",
    "I took the log of the fair, because the spread was huge across the board."
   ]
  },
  {
   "cell_type": "code",
   "execution_count": null,
   "metadata": {
    "colab": {
     "base_uri": "https://localhost:8080/",
     "height": 206
    },
    "executionInfo": {
     "elapsed": 120,
     "status": "ok",
     "timestamp": 1668823252037,
     "user": {
      "displayName": "Evan Carr Homeschool",
      "userId": "06914599846009526611"
     },
     "user_tz": 300
    },
    "id": "HfV5nfxO-r16",
    "outputId": "d0e52c1c-102d-4b79-8bda-57c030166994"
   },
   "outputs": [
    {
     "data": {
      "text/html": [
       "\n",
       "  <div id=\"df-050a8280-26df-43f9-94c8-8494fc6fbb0d\">\n",
       "    <div class=\"colab-df-container\">\n",
       "      <div>\n",
       "<style scoped>\n",
       "    .dataframe tbody tr th:only-of-type {\n",
       "        vertical-align: middle;\n",
       "    }\n",
       "\n",
       "    .dataframe tbody tr th {\n",
       "        vertical-align: top;\n",
       "    }\n",
       "\n",
       "    .dataframe thead th {\n",
       "        text-align: right;\n",
       "    }\n",
       "</style>\n",
       "<table border=\"1\" class=\"dataframe\">\n",
       "  <thead>\n",
       "    <tr style=\"text-align: right;\">\n",
       "      <th></th>\n",
       "      <th>survived</th>\n",
       "      <th>passenger_class</th>\n",
       "      <th>sex</th>\n",
       "      <th>age</th>\n",
       "      <th>fare</th>\n",
       "      <th>embark_town</th>\n",
       "      <th>alone</th>\n",
       "      <th>family_members</th>\n",
       "    </tr>\n",
       "  </thead>\n",
       "  <tbody>\n",
       "    <tr>\n",
       "      <th>0</th>\n",
       "      <td>0</td>\n",
       "      <td>3</td>\n",
       "      <td>male</td>\n",
       "      <td>22.00</td>\n",
       "      <td>2.11</td>\n",
       "      <td>S</td>\n",
       "      <td>0</td>\n",
       "      <td>1</td>\n",
       "    </tr>\n",
       "    <tr>\n",
       "      <th>1</th>\n",
       "      <td>1</td>\n",
       "      <td>1</td>\n",
       "      <td>female</td>\n",
       "      <td>38.00</td>\n",
       "      <td>4.28</td>\n",
       "      <td>C</td>\n",
       "      <td>0</td>\n",
       "      <td>1</td>\n",
       "    </tr>\n",
       "    <tr>\n",
       "      <th>2</th>\n",
       "      <td>1</td>\n",
       "      <td>3</td>\n",
       "      <td>female</td>\n",
       "      <td>26.00</td>\n",
       "      <td>2.19</td>\n",
       "      <td>S</td>\n",
       "      <td>1</td>\n",
       "      <td>0</td>\n",
       "    </tr>\n",
       "    <tr>\n",
       "      <th>3</th>\n",
       "      <td>1</td>\n",
       "      <td>1</td>\n",
       "      <td>female</td>\n",
       "      <td>35.00</td>\n",
       "      <td>3.99</td>\n",
       "      <td>S</td>\n",
       "      <td>0</td>\n",
       "      <td>1</td>\n",
       "    </tr>\n",
       "    <tr>\n",
       "      <th>4</th>\n",
       "      <td>0</td>\n",
       "      <td>3</td>\n",
       "      <td>male</td>\n",
       "      <td>35.00</td>\n",
       "      <td>2.20</td>\n",
       "      <td>S</td>\n",
       "      <td>1</td>\n",
       "      <td>0</td>\n",
       "    </tr>\n",
       "  </tbody>\n",
       "</table>\n",
       "</div>\n",
       "      <button class=\"colab-df-convert\" onclick=\"convertToInteractive('df-050a8280-26df-43f9-94c8-8494fc6fbb0d')\"\n",
       "              title=\"Convert this dataframe to an interactive table.\"\n",
       "              style=\"display:none;\">\n",
       "        \n",
       "  <svg xmlns=\"http://www.w3.org/2000/svg\" height=\"24px\"viewBox=\"0 0 24 24\"\n",
       "       width=\"24px\">\n",
       "    <path d=\"M0 0h24v24H0V0z\" fill=\"none\"/>\n",
       "    <path d=\"M18.56 5.44l.94 2.06.94-2.06 2.06-.94-2.06-.94-.94-2.06-.94 2.06-2.06.94zm-11 1L8.5 8.5l.94-2.06 2.06-.94-2.06-.94L8.5 2.5l-.94 2.06-2.06.94zm10 10l.94 2.06.94-2.06 2.06-.94-2.06-.94-.94-2.06-.94 2.06-2.06.94z\"/><path d=\"M17.41 7.96l-1.37-1.37c-.4-.4-.92-.59-1.43-.59-.52 0-1.04.2-1.43.59L10.3 9.45l-7.72 7.72c-.78.78-.78 2.05 0 2.83L4 21.41c.39.39.9.59 1.41.59.51 0 1.02-.2 1.41-.59l7.78-7.78 2.81-2.81c.8-.78.8-2.07 0-2.86zM5.41 20L4 18.59l7.72-7.72 1.47 1.35L5.41 20z\"/>\n",
       "  </svg>\n",
       "      </button>\n",
       "      \n",
       "  <style>\n",
       "    .colab-df-container {\n",
       "      display:flex;\n",
       "      flex-wrap:wrap;\n",
       "      gap: 12px;\n",
       "    }\n",
       "\n",
       "    .colab-df-convert {\n",
       "      background-color: #E8F0FE;\n",
       "      border: none;\n",
       "      border-radius: 50%;\n",
       "      cursor: pointer;\n",
       "      display: none;\n",
       "      fill: #1967D2;\n",
       "      height: 32px;\n",
       "      padding: 0 0 0 0;\n",
       "      width: 32px;\n",
       "    }\n",
       "\n",
       "    .colab-df-convert:hover {\n",
       "      background-color: #E2EBFA;\n",
       "      box-shadow: 0px 1px 2px rgba(60, 64, 67, 0.3), 0px 1px 3px 1px rgba(60, 64, 67, 0.15);\n",
       "      fill: #174EA6;\n",
       "    }\n",
       "\n",
       "    [theme=dark] .colab-df-convert {\n",
       "      background-color: #3B4455;\n",
       "      fill: #D2E3FC;\n",
       "    }\n",
       "\n",
       "    [theme=dark] .colab-df-convert:hover {\n",
       "      background-color: #434B5C;\n",
       "      box-shadow: 0px 1px 3px 1px rgba(0, 0, 0, 0.15);\n",
       "      filter: drop-shadow(0px 1px 2px rgba(0, 0, 0, 0.3));\n",
       "      fill: #FFFFFF;\n",
       "    }\n",
       "  </style>\n",
       "\n",
       "      <script>\n",
       "        const buttonEl =\n",
       "          document.querySelector('#df-050a8280-26df-43f9-94c8-8494fc6fbb0d button.colab-df-convert');\n",
       "        buttonEl.style.display =\n",
       "          google.colab.kernel.accessAllowed ? 'block' : 'none';\n",
       "\n",
       "        async function convertToInteractive(key) {\n",
       "          const element = document.querySelector('#df-050a8280-26df-43f9-94c8-8494fc6fbb0d');\n",
       "          const dataTable =\n",
       "            await google.colab.kernel.invokeFunction('convertToInteractive',\n",
       "                                                     [key], {});\n",
       "          if (!dataTable) return;\n",
       "\n",
       "          const docLinkHtml = 'Like what you see? Visit the ' +\n",
       "            '<a target=\"_blank\" href=https://colab.research.google.com/notebooks/data_table.ipynb>data table notebook</a>'\n",
       "            + ' to learn more about interactive tables.';\n",
       "          element.innerHTML = '';\n",
       "          dataTable['output_type'] = 'display_data';\n",
       "          await google.colab.output.renderOutput(dataTable, element);\n",
       "          const docLink = document.createElement('div');\n",
       "          docLink.innerHTML = docLinkHtml;\n",
       "          element.appendChild(docLink);\n",
       "        }\n",
       "      </script>\n",
       "    </div>\n",
       "  </div>\n",
       "  "
      ],
      "text/plain": [
       "   survived  passenger_class     sex   age  fare embark_town  alone  \\\n",
       "0         0                3    male 22.00  2.11           S      0   \n",
       "1         1                1  female 38.00  4.28           C      0   \n",
       "2         1                3  female 26.00  2.19           S      1   \n",
       "3         1                1  female 35.00  3.99           S      0   \n",
       "4         0                3    male 35.00  2.20           S      1   \n",
       "\n",
       "   family_members  \n",
       "0               1  \n",
       "1               1  \n",
       "2               0  \n",
       "3               1  \n",
       "4               0  "
      ]
     },
     "execution_count": 96,
     "metadata": {},
     "output_type": "execute_result"
    }
   ],
   "source": [
    "titanic_df.head(5)"
   ]
  },
  {
   "cell_type": "code",
   "execution_count": null,
   "metadata": {
    "colab": {
     "base_uri": "https://localhost:8080/"
    },
    "executionInfo": {
     "elapsed": 138,
     "status": "ok",
     "timestamp": 1668823253437,
     "user": {
      "displayName": "Evan Carr Homeschool",
      "userId": "06914599846009526611"
     },
     "user_tz": 300
    },
    "id": "t4fXb0UeKFC7",
    "outputId": "ea02bcbb-3696-4ea4-c948-721c8d958e6f"
   },
   "outputs": [
    {
     "data": {
      "text/plain": [
       "Index(['survived', 'passenger_class', 'sex', 'age', 'fare', 'embark_town',\n",
       "       'alone', 'family_members'],\n",
       "      dtype='object')"
      ]
     },
     "execution_count": 97,
     "metadata": {},
     "output_type": "execute_result"
    }
   ],
   "source": [
    "titanic_df.columns"
   ]
  },
  {
   "cell_type": "markdown",
   "metadata": {},
   "source": [
    "## Training and Validation Splits:"
   ]
  },
  {
   "cell_type": "code",
   "execution_count": null,
   "metadata": {
    "id": "CoCS6DVjfJFB"
   },
   "outputs": [],
   "source": [
    "splits = RandomSplitter(seed=42)(titanic_df)\n",
    "\n",
    "data = TabularPandas(\n",
    "    titanic_df, splits=splits,\n",
    "    procs = [Categorify, FillMissing, Normalize],\n",
    "    cat_names=[\"sex\",\"passenger_class\",\"embark_town\"],\n",
    "    cont_names=['age', 'fare', 'alone', 'family_members'],\n",
    "    y_names=\"survived\", y_block = CategoryBlock(),)\n",
    "\n",
    "dls = data.dataloaders(bs=100)"
   ]
  },
  {
   "cell_type": "markdown",
   "metadata": {},
   "source": [
    "## Defining the model:"
   ]
  },
  {
   "cell_type": "code",
   "execution_count": null,
   "metadata": {
    "id": "2F_uvP_glUjX"
   },
   "outputs": [],
   "source": [
    "learn = tabular_learner(dls, layers = [20,20], metrics=accuracy)"
   ]
  },
  {
   "cell_type": "markdown",
   "metadata": {},
   "source": [
    "## Finding and optimal learning rate:"
   ]
  },
  {
   "cell_type": "code",
   "execution_count": null,
   "metadata": {
    "colab": {
     "base_uri": "https://localhost:8080/",
     "height": 481
    },
    "executionInfo": {
     "elapsed": 2606,
     "status": "ok",
     "timestamp": 1668826973236,
     "user": {
      "displayName": "Evan Carr Homeschool",
      "userId": "06914599846009526611"
     },
     "user_tz": 300
    },
    "id": "FwyowYJ9LA2c",
    "outputId": "c7a8deb4-4b3d-48e7-f963-4327ef2dfb4a"
   },
   "outputs": [
    {
     "data": {
      "text/html": [
       "\n",
       "<style>\n",
       "    /* Turns off some styling */\n",
       "    progress {\n",
       "        /* gets rid of default border in Firefox and Opera. */\n",
       "        border: none;\n",
       "        /* Needs to be in here for Safari polyfill so background images work as expected. */\n",
       "        background-size: auto;\n",
       "    }\n",
       "    progress:not([value]), progress:not([value])::-webkit-progress-bar {\n",
       "        background: repeating-linear-gradient(45deg, #7e7e7e, #7e7e7e 10px, #5c5c5c 10px, #5c5c5c 20px);\n",
       "    }\n",
       "    .progress-bar-interrupted, .progress-bar-interrupted::-webkit-progress-bar {\n",
       "        background: #F44336;\n",
       "    }\n",
       "</style>\n"
      ],
      "text/plain": [
       "<IPython.core.display.HTML object>"
      ]
     },
     "metadata": {},
     "output_type": "display_data"
    },
    {
     "data": {
      "text/html": [],
      "text/plain": [
       "<IPython.core.display.HTML object>"
      ]
     },
     "metadata": {},
     "output_type": "display_data"
    },
    {
     "data": {
      "text/plain": [
       "SuggestedLRs(slide=0.05754399299621582, valley=0.004365158267319202)"
      ]
     },
     "execution_count": 211,
     "metadata": {},
     "output_type": "execute_result"
    },
    {
     "data": {
      "image/png": "[encoded data removed]",
      "text/plain": [
       "<Figure size 640x480 with 1 Axes>"
      ]
     },
     "metadata": {},
     "output_type": "display_data"
    }
   ],
   "source": [
    "learn.lr_find(suggest_funcs=(slide, valley))"
   ]
  },
  {
   "cell_type": "markdown",
   "metadata": {},
   "source": [
    "## Training the model:"
   ]
  },
  {
   "cell_type": "code",
   "execution_count": null,
   "metadata": {
    "colab": {
     "base_uri": "https://localhost:8080/",
     "height": 677
    },
    "executionInfo": {
     "elapsed": 4165,
     "status": "ok",
     "timestamp": 1668827103482,
     "user": {
      "displayName": "Evan Carr Homeschool",
      "userId": "06914599846009526611"
     },
     "user_tz": 300
    },
    "id": "wGi7xl6Fhts7",
    "outputId": "e4909d19-55ff-46a4-b4ae-7d199bff89b0"
   },
   "outputs": [
    {
     "data": {
      "text/html": [
       "\n",
       "<style>\n",
       "    /* Turns off some styling */\n",
       "    progress {\n",
       "        /* gets rid of default border in Firefox and Opera. */\n",
       "        border: none;\n",
       "        /* Needs to be in here for Safari polyfill so background images work as expected. */\n",
       "        background-size: auto;\n",
       "    }\n",
       "    progress:not([value]), progress:not([value])::-webkit-progress-bar {\n",
       "        background: repeating-linear-gradient(45deg, #7e7e7e, #7e7e7e 10px, #5c5c5c 10px, #5c5c5c 20px);\n",
       "    }\n",
       "    .progress-bar-interrupted, .progress-bar-interrupted::-webkit-progress-bar {\n",
       "        background: #F44336;\n",
       "    }\n",
       "</style>\n"
      ],
      "text/plain": [
       "<IPython.core.display.HTML object>"
      ]
     },
     "metadata": {},
     "output_type": "display_data"
    },
    {
     "data": {
      "text/html": [
       "<table border=\"1\" class=\"dataframe\">\n",
       "  <thead>\n",
       "    <tr style=\"text-align: left;\">\n",
       "      <th>epoch</th>\n",
       "      <th>train_loss</th>\n",
       "      <th>valid_loss</th>\n",
       "      <th>accuracy</th>\n",
       "      <th>time</th>\n",
       "    </tr>\n",
       "  </thead>\n",
       "  <tbody>\n",
       "    <tr>\n",
       "      <td>0</td>\n",
       "      <td>0.717182</td>\n",
       "      <td>0.689803</td>\n",
       "      <td>0.605364</td>\n",
       "      <td>00:00</td>\n",
       "    </tr>\n",
       "    <tr>\n",
       "      <td>1</td>\n",
       "      <td>0.670703</td>\n",
       "      <td>0.611701</td>\n",
       "      <td>0.731801</td>\n",
       "      <td>00:00</td>\n",
       "    </tr>\n",
       "    <tr>\n",
       "      <td>2</td>\n",
       "      <td>0.619985</td>\n",
       "      <td>0.533585</td>\n",
       "      <td>0.743295</td>\n",
       "      <td>00:00</td>\n",
       "    </tr>\n",
       "    <tr>\n",
       "      <td>3</td>\n",
       "      <td>0.576716</td>\n",
       "      <td>0.498497</td>\n",
       "      <td>0.773946</td>\n",
       "      <td>00:00</td>\n",
       "    </tr>\n",
       "    <tr>\n",
       "      <td>4</td>\n",
       "      <td>0.542172</td>\n",
       "      <td>0.489277</td>\n",
       "      <td>0.762452</td>\n",
       "      <td>00:00</td>\n",
       "    </tr>\n",
       "    <tr>\n",
       "      <td>5</td>\n",
       "      <td>0.518437</td>\n",
       "      <td>0.477356</td>\n",
       "      <td>0.785441</td>\n",
       "      <td>00:00</td>\n",
       "    </tr>\n",
       "    <tr>\n",
       "      <td>6</td>\n",
       "      <td>0.499243</td>\n",
       "      <td>0.472990</td>\n",
       "      <td>0.777778</td>\n",
       "      <td>00:00</td>\n",
       "    </tr>\n",
       "    <tr>\n",
       "      <td>7</td>\n",
       "      <td>0.483240</td>\n",
       "      <td>0.466630</td>\n",
       "      <td>0.773946</td>\n",
       "      <td>00:00</td>\n",
       "    </tr>\n",
       "    <tr>\n",
       "      <td>8</td>\n",
       "      <td>0.472140</td>\n",
       "      <td>0.475360</td>\n",
       "      <td>0.781609</td>\n",
       "      <td>00:00</td>\n",
       "    </tr>\n",
       "    <tr>\n",
       "      <td>9</td>\n",
       "      <td>0.463333</td>\n",
       "      <td>0.472392</td>\n",
       "      <td>0.785441</td>\n",
       "      <td>00:00</td>\n",
       "    </tr>\n",
       "    <tr>\n",
       "      <td>10</td>\n",
       "      <td>0.456551</td>\n",
       "      <td>0.468974</td>\n",
       "      <td>0.789272</td>\n",
       "      <td>00:00</td>\n",
       "    </tr>\n",
       "    <tr>\n",
       "      <td>11</td>\n",
       "      <td>0.448959</td>\n",
       "      <td>0.478416</td>\n",
       "      <td>0.762452</td>\n",
       "      <td>00:00</td>\n",
       "    </tr>\n",
       "    <tr>\n",
       "      <td>12</td>\n",
       "      <td>0.444590</td>\n",
       "      <td>0.468582</td>\n",
       "      <td>0.773946</td>\n",
       "      <td>00:00</td>\n",
       "    </tr>\n",
       "    <tr>\n",
       "      <td>13</td>\n",
       "      <td>0.441351</td>\n",
       "      <td>0.477227</td>\n",
       "      <td>0.762452</td>\n",
       "      <td>00:00</td>\n",
       "    </tr>\n",
       "    <tr>\n",
       "      <td>14</td>\n",
       "      <td>0.437007</td>\n",
       "      <td>0.463947</td>\n",
       "      <td>0.796935</td>\n",
       "      <td>00:00</td>\n",
       "    </tr>\n",
       "    <tr>\n",
       "      <td>15</td>\n",
       "      <td>0.433257</td>\n",
       "      <td>0.473010</td>\n",
       "      <td>0.785441</td>\n",
       "      <td>00:00</td>\n",
       "    </tr>\n",
       "    <tr>\n",
       "      <td>16</td>\n",
       "      <td>0.429231</td>\n",
       "      <td>0.476627</td>\n",
       "      <td>0.777778</td>\n",
       "      <td>00:00</td>\n",
       "    </tr>\n",
       "    <tr>\n",
       "      <td>17</td>\n",
       "      <td>0.429127</td>\n",
       "      <td>0.473109</td>\n",
       "      <td>0.793103</td>\n",
       "      <td>00:00</td>\n",
       "    </tr>\n",
       "    <tr>\n",
       "      <td>18</td>\n",
       "      <td>0.427705</td>\n",
       "      <td>0.491342</td>\n",
       "      <td>0.750958</td>\n",
       "      <td>00:00</td>\n",
       "    </tr>\n",
       "    <tr>\n",
       "      <td>19</td>\n",
       "      <td>0.424453</td>\n",
       "      <td>0.465731</td>\n",
       "      <td>0.800766</td>\n",
       "      <td>00:00</td>\n",
       "    </tr>\n",
       "  </tbody>\n",
       "</table>"
      ],
      "text/plain": [
       "<IPython.core.display.HTML object>"
      ]
     },
     "metadata": {},
     "output_type": "display_data"
    }
   ],
   "source": [
    "learn = tabular_learner(dls, layers = [20,20], metrics=accuracy)\n",
    "learn.fit(20, lr=0.005)"
   ]
  },
  {
   "cell_type": "markdown",
   "metadata": {},
   "source": [
    "## Fast.ai final accuracy = 80%"
   ]
  },
  {
   "cell_type": "markdown",
   "metadata": {},
   "source": [
    "## The confusion matrix for correct and incorrect predictions:"
   ]
  },
  {
   "cell_type": "code",
   "execution_count": null,
   "metadata": {
    "colab": {
     "base_uri": "https://localhost:8080/",
     "height": 432
    },
    "executionInfo": {
     "elapsed": 434,
     "status": "ok",
     "timestamp": 1668827108578,
     "user": {
      "displayName": "Evan Carr Homeschool",
      "userId": "06914599846009526611"
     },
     "user_tz": 300
    },
    "id": "2e2yFFXUiDfF",
    "outputId": "95d43f96-5498-459c-bc44-af8d8f707619"
   },
   "outputs": [
    {
     "data": {
      "text/html": [
       "\n",
       "<style>\n",
       "    /* Turns off some styling */\n",
       "    progress {\n",
       "        /* gets rid of default border in Firefox and Opera. */\n",
       "        border: none;\n",
       "        /* Needs to be in here for Safari polyfill so background images work as expected. */\n",
       "        background-size: auto;\n",
       "    }\n",
       "    progress:not([value]), progress:not([value])::-webkit-progress-bar {\n",
       "        background: repeating-linear-gradient(45deg, #7e7e7e, #7e7e7e 10px, #5c5c5c 10px, #5c5c5c 20px);\n",
       "    }\n",
       "    .progress-bar-interrupted, .progress-bar-interrupted::-webkit-progress-bar {\n",
       "        background: #F44336;\n",
       "    }\n",
       "</style>\n"
      ],
      "text/plain": [
       "<IPython.core.display.HTML object>"
      ]
     },
     "metadata": {},
     "output_type": "display_data"
    },
    {
     "data": {
      "text/html": [],
      "text/plain": [
       "<IPython.core.display.HTML object>"
      ]
     },
     "metadata": {},
     "output_type": "display_data"
    },
    {
     "data": {
      "text/html": [
       "\n",
       "<style>\n",
       "    /* Turns off some styling */\n",
       "    progress {\n",
       "        /* gets rid of default border in Firefox and Opera. */\n",
       "        border: none;\n",
       "        /* Needs to be in here for Safari polyfill so background images work as expected. */\n",
       "        background-size: auto;\n",
       "    }\n",
       "    progress:not([value]), progress:not([value])::-webkit-progress-bar {\n",
       "        background: repeating-linear-gradient(45deg, #7e7e7e, #7e7e7e 10px, #5c5c5c 10px, #5c5c5c 20px);\n",
       "    }\n",
       "    .progress-bar-interrupted, .progress-bar-interrupted::-webkit-progress-bar {\n",
       "        background: #F44336;\n",
       "    }\n",
       "</style>\n"
      ],
      "text/plain": [
       "<IPython.core.display.HTML object>"
      ]
     },
     "metadata": {},
     "output_type": "display_data"
    },
    {
     "data": {
      "text/html": [],
      "text/plain": [
       "<IPython.core.display.HTML object>"
      ]
     },
     "metadata": {},
     "output_type": "display_data"
    },
    {
     "data": {
      "image/png": "[encoded data removed]",
      "text/plain": [
       "<Figure size 400x400 with 1 Axes>"
      ]
     },
     "metadata": {},
     "output_type": "display_data"
    }
   ],
   "source": [
    "# Plot the confusion matrix:\n",
    "interp = ClassificationInterpretation.from_learner(learn)\n",
    "interp.plot_confusion_matrix(figsize=(5,5))"
   ]
  },
  {
   "cell_type": "markdown",
   "metadata": {},
   "source": [
    "## Data visualization time:"
   ]
  },
  {
   "cell_type": "code",
   "execution_count": null,
   "metadata": {
    "colab": {
     "base_uri": "https://localhost:8080/",
     "height": 565
    },
    "executionInfo": {
     "elapsed": 544,
     "status": "ok",
     "timestamp": 1668827165286,
     "user": {
      "displayName": "Evan Carr Homeschool",
      "userId": "06914599846009526611"
     },
     "user_tz": 300
    },
    "id": "05G8KIexieZv",
    "outputId": "98b84e43-35aa-42d1-d5bd-753e47e26771"
   },
   "outputs": [
    {
     "data": {
      "image/png": "[encoded data removed]",
      "text/plain": [
       "<Figure size 960x560 with 1 Axes>"
      ]
     },
     "metadata": {},
     "output_type": "display_data"
    }
   ],
   "source": [
    "# Plot the survival rate by age:\n",
    "plt.style.use('classic')\n",
    "fig = plt.figure(figsize=(12,7))\n",
    "df = pd.read_csv('train.csv')\n",
    "df['Age'].hist(bins=16, range=(0,80), alpha = .9, color='cyan', edgecolor='black',  linewidth=1.5)\n",
    "plt.title(\"Survival Rate by Age\", pad=20, size=24)\n",
    "plt.xlabel('Age', size=18)\n",
    "plt.ylabel('Survivors', size=18)\n",
    "plt.show()"
   ]
  },
  {
   "cell_type": "code",
   "execution_count": null,
   "metadata": {
    "colab": {
     "base_uri": "https://localhost:8080/",
     "height": 564
    },
    "executionInfo": {
     "elapsed": 541,
     "status": "ok",
     "timestamp": 1668827156046,
     "user": {
      "displayName": "Evan Carr Homeschool",
      "userId": "06914599846009526611"
     },
     "user_tz": 300
    },
    "id": "PhwADX4hoxP6",
    "outputId": "a7124b83-0cf7-4fb4-b538-011f1dc2c1e5"
   },
   "outputs": [
    {
     "data": {
      "image/png": "[encoded data removed]",
      "text/plain": [
       "<Figure size 960x560 with 1 Axes>"
      ]
     },
     "metadata": {},
     "output_type": "display_data"
    }
   ],
   "source": [
    "# Plot the percentage of survivors by passenger class in a bar chart:\n",
    "plt.style.use('classic')\n",
    "fig = plt.figure(figsize=(12,7))\n",
    "df = pd.read_csv('train.csv')\n",
    "df.groupby('Pclass')['Survived'].mean().plot(kind='barh', color='cyan', edgecolor='black',  linewidth=1.5)\n",
    "# Make the x axis labels as percentages:\n",
    "plt.gca().set_xticklabels(['{:.0f}%'.format(x*100) for x in plt.gca().get_xticks()])\n",
    "plt.grid()\n",
    "plt.title(\"Survival Rate by Passenger Class\", pad=20, size=24)\n",
    "plt.xlabel('Passenger Class', size=16)\n",
    "plt.ylabel('Survival Rate', size=18)\n",
    "plt.show()"
   ]
  },
  {
   "cell_type": "code",
   "execution_count": null,
   "metadata": {
    "colab": {
     "base_uri": "https://localhost:8080/",
     "height": 601
    },
    "executionInfo": {
     "elapsed": 748,
     "status": "ok",
     "timestamp": 1668827142425,
     "user": {
      "displayName": "Evan Carr Homeschool",
      "userId": "06914599846009526611"
     },
     "user_tz": 300
    },
    "id": "TjB6zBkUrE2G",
    "outputId": "a9e7bbbe-e8fe-4653-bca5-85bb8295cded"
   },
   "outputs": [
    {
     "name": "stderr",
     "output_type": "stream",
     "text": [
      "/usr/local/lib/python3.7/dist-packages/pandas/core/arraylike.py:364: RuntimeWarning: divide by zero encountered in log\n",
      "  result = getattr(ufunc, method)(*inputs, **kwargs)\n"
     ]
    },
    {
     "data": {
      "image/png": "[encoded data removed]",
      "text/plain": [
       "<Figure size 960x560 with 1 Axes>"
      ]
     },
     "metadata": {},
     "output_type": "display_data"
    }
   ],
   "source": [
    "import seaborn as sns\n",
    "# Make an sns scatterplot of suvivors by age, sex, and passenger class:\n",
    "plt.style.use('classic')\n",
    "fig = plt.figure(figsize=(12,7))\n",
    "df = pd.read_csv('train.csv')\n",
    "# Set axis limits:\n",
    "plt.xlim(-0.5, 85)\n",
    "plt.ylim(1, 7)\n",
    "sns.scatterplot(x='Age', y=np.log(df['Fare']), hue='Survived', data=df, palette='magma', alpha=0.5, s=60, linewidth=0.75, edgecolor='black')\n",
    "# Make the y axis labels as the fare before the log:\n",
    "plt.gca().set_yticklabels(['{:.0f}'.format(np.exp(x)) for x in plt.gca().get_yticks()])\n",
    "plt.title(\"Survival Rate by Age and Passenger Class\", pad=20, size=24)\n",
    "plt.xlabel('Age', size=18)\n",
    "plt.ylabel('Log(Fare)', size=18)\n",
    "# Legend, make 0 and 1 into 'Perished' and 'Survived':\n",
    "plt.legend(['Perished', 'Survived'])\n",
    "plt.show()"
   ]
  },
  {
   "cell_type": "markdown",
   "metadata": {
    "id": "oz5jCsw2HTpQ"
   },
   "source": [
    "---\n",
    "# XGBoost Version"
   ]
  },
  {
   "cell_type": "markdown",
   "metadata": {},
   "source": [
    "## Importing all the necessary libraries:"
   ]
  },
  {
   "cell_type": "code",
   "execution_count": null,
   "metadata": {
    "id": "iLxraZHwuPdx"
   },
   "outputs": [],
   "source": [
    "from xgboost import XGBClassifier\n",
    "from sklearn.model_selection import train_test_split\n",
    "from sklearn.preprocessing import MinMaxScaler\n",
    "from sklearn.metrics import mean_squared_error\n",
    "import pandas as pd\n",
    "import seaborn as sns\n",
    "import numpy as np\n",
    "import matplotlib.pyplot as plt\n",
    "%matplotlib inline\n",
    "\n",
    "from urllib.request import urlretrieve\n",
    "url = \"http://www.evanmarie.com/content/files/datasets/titanic.zip\"\n",
    "urlretrieve(url, 'titanic.zip')\n",
    "\n",
    "from zipfile import ZipFile\n",
    "with ZipFile('titanic.zip') as file:\n",
    "  file.extractall()"
   ]
  },
  {
   "cell_type": "markdown",
   "metadata": {},
   "source": [
    "## Creating the dataframes and cleaning up the data:"
   ]
  },
  {
   "cell_type": "code",
   "execution_count": null,
   "metadata": {
    "id": "LXdoKVEePNT4"
   },
   "outputs": [],
   "source": [
    "train_df = pd.read_csv('train.csv')\n",
    "test_df = pd.read_csv('test.csv')"
   ]
  },
  {
   "cell_type": "code",
   "execution_count": null,
   "metadata": {
    "id": "MFIjSPO5PNUE"
   },
   "outputs": [],
   "source": [
    "# Clean up column names (lower case and strip spaces):\n",
    "train_df.columns = [x.lower().strip() for x in train_df.columns]\n",
    "test_df.columns = [x.lower().strip() for x in test_df.columns]\n",
    "\n",
    "# Combine train_df and test_df:\n",
    "titanic_df = pd.concat([train_df, test_df], sort=False)\n",
    "\n",
    "# Drop columns that are not useful:\n",
    "titanic_df.drop(['ticket', 'cabin', 'name', 'passengerid'], axis=1, inplace=True)\n",
    "\n",
    "# Rename columns:\n",
    "titanic_df = titanic_df.rename(columns={\n",
    "    'pclass': 'passenger_class',\n",
    "    'sibsp': 'siblings_spouses',\n",
    "    'parch': 'parents_children',\n",
    "    'embarked': 'embark_town'\n",
    "})"
   ]
  },
  {
   "cell_type": "code",
   "execution_count": null,
   "metadata": {
    "id": "1Nx6nbl_PNUE"
   },
   "outputs": [],
   "source": [
    "# Log version of fare\n",
    "titanic_df['fare'] = np.log(titanic_df['fare'] + 1)\n",
    "\n",
    "# Alone column is 1 if no siblings/spouses or parents/children:\n",
    "titanic_df['alone'] = 0\n",
    "titanic_df.loc[(titanic_df['siblings_spouses'] == 0) & (titanic_df['parents_children'] == 0), 'alone'] = 1\n",
    "\n",
    "# Total family members:\n",
    "titanic_df['family_members'] = titanic_df['siblings_spouses'] + titanic_df['parents_children']\n",
    "# Drop the siblings_spouses and parents_children columns:\n",
    "titanic_df.drop(['siblings_spouses', 'parents_children'], axis=1, inplace=True)\n",
    "titanic_df['survived'] = titanic_df['survived'].fillna(0).astype(int)"
   ]
  },
  {
   "cell_type": "markdown",
   "metadata": {},
   "source": [
    "## One-hot encoding categorical data:"
   ]
  },
  {
   "cell_type": "code",
   "execution_count": null,
   "metadata": {
    "id": "IAUtmWYKPNUF"
   },
   "outputs": [],
   "source": [
    "titanic_df = pd.get_dummies(titanic_df, columns=['passenger_class', 'sex', 'embark_town'])"
   ]
  },
  {
   "cell_type": "markdown",
   "metadata": {},
   "source": [
    "## Scaling the data:"
   ]
  },
  {
   "cell_type": "code",
   "execution_count": null,
   "metadata": {
    "id": "0mBIeKdbRTnT"
   },
   "outputs": [],
   "source": [
    "scaler = MinMaxScaler()\n",
    "titanic_df['age'] = scaler.fit_transform(titanic_df['age'].values.reshape(-1,1))\n",
    "# Fill NaN values with the mean of the column:\n",
    "titanic_df.fillna(titanic_df.mean(), inplace=True)"
   ]
  },
  {
   "cell_type": "code",
   "execution_count": null,
   "metadata": {
    "colab": {
     "base_uri": "https://localhost:8080/",
     "height": 521
    },
    "executionInfo": {
     "elapsed": 4,
     "status": "ok",
     "timestamp": 1668868684776,
     "user": {
      "displayName": "Evan Carr Homeschool",
      "userId": "06914599846009526611"
     },
     "user_tz": 300
    },
    "id": "EvhUXuxUPNUF",
    "outputId": "525294da-a75a-48f9-8362-8de0bcbed586"
   },
   "outputs": [
    {
     "data": {
      "text/html": [
       "\n",
       "  <div id=\"df-c500eab7-01de-401a-a960-6c9c837fa13c\">\n",
       "    <div class=\"colab-df-container\">\n",
       "      <div>\n",
       "<style scoped>\n",
       "    .dataframe tbody tr th:only-of-type {\n",
       "        vertical-align: middle;\n",
       "    }\n",
       "\n",
       "    .dataframe tbody tr th {\n",
       "        vertical-align: top;\n",
       "    }\n",
       "\n",
       "    .dataframe thead th {\n",
       "        text-align: right;\n",
       "    }\n",
       "</style>\n",
       "<table border=\"1\" class=\"dataframe\">\n",
       "  <thead>\n",
       "    <tr style=\"text-align: right;\">\n",
       "      <th></th>\n",
       "      <th>survived</th>\n",
       "      <th>age</th>\n",
       "      <th>fare</th>\n",
       "      <th>alone</th>\n",
       "      <th>family_members</th>\n",
       "      <th>passenger_class_1</th>\n",
       "      <th>passenger_class_2</th>\n",
       "      <th>passenger_class_3</th>\n",
       "      <th>sex_female</th>\n",
       "      <th>sex_male</th>\n",
       "      <th>embark_town_C</th>\n",
       "      <th>embark_town_Q</th>\n",
       "      <th>embark_town_S</th>\n",
       "    </tr>\n",
       "  </thead>\n",
       "  <tbody>\n",
       "    <tr>\n",
       "      <th>survived</th>\n",
       "      <td>1.000000</td>\n",
       "      <td>-0.060203</td>\n",
       "      <td>0.238147</td>\n",
       "      <td>-0.154285</td>\n",
       "      <td>0.020555</td>\n",
       "      <td>0.208166</td>\n",
       "      <td>0.062279</td>\n",
       "      <td>-0.231169</td>\n",
       "      <td>0.404020</td>\n",
       "      <td>-0.404020</td>\n",
       "      <td>0.096513</td>\n",
       "      <td>-0.012730</td>\n",
       "      <td>-0.082581</td>\n",
       "    </tr>\n",
       "    <tr>\n",
       "      <th>age</th>\n",
       "      <td>-0.060203</td>\n",
       "      <td>1.000000</td>\n",
       "      <td>0.173183</td>\n",
       "      <td>0.116675</td>\n",
       "      <td>-0.196996</td>\n",
       "      <td>0.362587</td>\n",
       "      <td>-0.014193</td>\n",
       "      <td>-0.302093</td>\n",
       "      <td>-0.057397</td>\n",
       "      <td>0.057397</td>\n",
       "      <td>0.076179</td>\n",
       "      <td>-0.012718</td>\n",
       "      <td>-0.064267</td>\n",
       "    </tr>\n",
       "    <tr>\n",
       "      <th>fare</th>\n",
       "      <td>0.238147</td>\n",
       "      <td>0.173183</td>\n",
       "      <td>1.000000</td>\n",
       "      <td>-0.469704</td>\n",
       "      <td>0.381755</td>\n",
       "      <td>0.679077</td>\n",
       "      <td>-0.027350</td>\n",
       "      <td>-0.565151</td>\n",
       "      <td>0.250265</td>\n",
       "      <td>-0.250265</td>\n",
       "      <td>0.281942</td>\n",
       "      <td>-0.190547</td>\n",
       "      <td>-0.132273</td>\n",
       "    </tr>\n",
       "    <tr>\n",
       "      <th>alone</th>\n",
       "      <td>-0.154285</td>\n",
       "      <td>0.116675</td>\n",
       "      <td>-0.469704</td>\n",
       "      <td>1.000000</td>\n",
       "      <td>-0.688864</td>\n",
       "      <td>-0.126551</td>\n",
       "      <td>-0.035075</td>\n",
       "      <td>0.138250</td>\n",
       "      <td>-0.284537</td>\n",
       "      <td>0.284537</td>\n",
       "      <td>-0.107874</td>\n",
       "      <td>0.127214</td>\n",
       "      <td>0.011527</td>\n",
       "    </tr>\n",
       "    <tr>\n",
       "      <th>family_members</th>\n",
       "      <td>0.020555</td>\n",
       "      <td>-0.196996</td>\n",
       "      <td>0.381755</td>\n",
       "      <td>-0.688864</td>\n",
       "      <td>1.000000</td>\n",
       "      <td>-0.029656</td>\n",
       "      <td>-0.039976</td>\n",
       "      <td>0.058430</td>\n",
       "      <td>0.188583</td>\n",
       "      <td>-0.188583</td>\n",
       "      <td>-0.036553</td>\n",
       "      <td>-0.087190</td>\n",
       "      <td>0.089503</td>\n",
       "    </tr>\n",
       "    <tr>\n",
       "      <th>passenger_class_1</th>\n",
       "      <td>0.208166</td>\n",
       "      <td>0.362587</td>\n",
       "      <td>0.679077</td>\n",
       "      <td>-0.126551</td>\n",
       "      <td>-0.029656</td>\n",
       "      <td>1.000000</td>\n",
       "      <td>-0.296526</td>\n",
       "      <td>-0.622172</td>\n",
       "      <td>0.107371</td>\n",
       "      <td>-0.107371</td>\n",
       "      <td>0.325722</td>\n",
       "      <td>-0.166101</td>\n",
       "      <td>-0.187353</td>\n",
       "    </tr>\n",
       "    <tr>\n",
       "      <th>passenger_class_2</th>\n",
       "      <td>0.062279</td>\n",
       "      <td>-0.014193</td>\n",
       "      <td>-0.027350</td>\n",
       "      <td>-0.035075</td>\n",
       "      <td>-0.039976</td>\n",
       "      <td>-0.296526</td>\n",
       "      <td>1.000000</td>\n",
       "      <td>-0.563180</td>\n",
       "      <td>0.028862</td>\n",
       "      <td>-0.028862</td>\n",
       "      <td>-0.134675</td>\n",
       "      <td>-0.121973</td>\n",
       "      <td>0.197973</td>\n",
       "    </tr>\n",
       "    <tr>\n",
       "      <th>passenger_class_3</th>\n",
       "      <td>-0.231169</td>\n",
       "      <td>-0.302093</td>\n",
       "      <td>-0.565151</td>\n",
       "      <td>0.138250</td>\n",
       "      <td>0.058430</td>\n",
       "      <td>-0.622172</td>\n",
       "      <td>-0.563180</td>\n",
       "      <td>1.000000</td>\n",
       "      <td>-0.116562</td>\n",
       "      <td>0.116562</td>\n",
       "      <td>-0.171430</td>\n",
       "      <td>0.243706</td>\n",
       "      <td>-0.000181</td>\n",
       "    </tr>\n",
       "    <tr>\n",
       "      <th>sex_female</th>\n",
       "      <td>0.404020</td>\n",
       "      <td>-0.057397</td>\n",
       "      <td>0.250265</td>\n",
       "      <td>-0.284537</td>\n",
       "      <td>0.188583</td>\n",
       "      <td>0.107371</td>\n",
       "      <td>0.028862</td>\n",
       "      <td>-0.116562</td>\n",
       "      <td>1.000000</td>\n",
       "      <td>-1.000000</td>\n",
       "      <td>0.066564</td>\n",
       "      <td>0.088651</td>\n",
       "      <td>-0.119504</td>\n",
       "    </tr>\n",
       "    <tr>\n",
       "      <th>sex_male</th>\n",
       "      <td>-0.404020</td>\n",
       "      <td>0.057397</td>\n",
       "      <td>-0.250265</td>\n",
       "      <td>0.284537</td>\n",
       "      <td>-0.188583</td>\n",
       "      <td>-0.107371</td>\n",
       "      <td>-0.028862</td>\n",
       "      <td>0.116562</td>\n",
       "      <td>-1.000000</td>\n",
       "      <td>1.000000</td>\n",
       "      <td>-0.066564</td>\n",
       "      <td>-0.088651</td>\n",
       "      <td>0.119504</td>\n",
       "    </tr>\n",
       "    <tr>\n",
       "      <th>embark_town_C</th>\n",
       "      <td>0.096513</td>\n",
       "      <td>0.076179</td>\n",
       "      <td>0.281942</td>\n",
       "      <td>-0.107874</td>\n",
       "      <td>-0.036553</td>\n",
       "      <td>0.325722</td>\n",
       "      <td>-0.134675</td>\n",
       "      <td>-0.171430</td>\n",
       "      <td>0.066564</td>\n",
       "      <td>-0.066564</td>\n",
       "      <td>1.000000</td>\n",
       "      <td>-0.164166</td>\n",
       "      <td>-0.775441</td>\n",
       "    </tr>\n",
       "    <tr>\n",
       "      <th>embark_town_Q</th>\n",
       "      <td>-0.012730</td>\n",
       "      <td>-0.012718</td>\n",
       "      <td>-0.190547</td>\n",
       "      <td>0.127214</td>\n",
       "      <td>-0.087190</td>\n",
       "      <td>-0.166101</td>\n",
       "      <td>-0.121973</td>\n",
       "      <td>0.243706</td>\n",
       "      <td>0.088651</td>\n",
       "      <td>-0.088651</td>\n",
       "      <td>-0.164166</td>\n",
       "      <td>1.000000</td>\n",
       "      <td>-0.489874</td>\n",
       "    </tr>\n",
       "    <tr>\n",
       "      <th>embark_town_S</th>\n",
       "      <td>-0.082581</td>\n",
       "      <td>-0.064267</td>\n",
       "      <td>-0.132273</td>\n",
       "      <td>0.011527</td>\n",
       "      <td>0.089503</td>\n",
       "      <td>-0.187353</td>\n",
       "      <td>0.197973</td>\n",
       "      <td>-0.000181</td>\n",
       "      <td>-0.119504</td>\n",
       "      <td>0.119504</td>\n",
       "      <td>-0.775441</td>\n",
       "      <td>-0.489874</td>\n",
       "      <td>1.000000</td>\n",
       "    </tr>\n",
       "  </tbody>\n",
       "</table>\n",
       "</div>\n",
       "      <button class=\"colab-df-convert\" onclick=\"convertToInteractive('df-c500eab7-01de-401a-a960-6c9c837fa13c')\"\n",
       "              title=\"Convert this dataframe to an interactive table.\"\n",
       "              style=\"display:none;\">\n",
       "        \n",
       "  <svg xmlns=\"http://www.w3.org/2000/svg\" height=\"24px\"viewBox=\"0 0 24 24\"\n",
       "       width=\"24px\">\n",
       "    <path d=\"M0 0h24v24H0V0z\" fill=\"none\"/>\n",
       "    <path d=\"M18.56 5.44l.94 2.06.94-2.06 2.06-.94-2.06-.94-.94-2.06-.94 2.06-2.06.94zm-11 1L8.5 8.5l.94-2.06 2.06-.94-2.06-.94L8.5 2.5l-.94 2.06-2.06.94zm10 10l.94 2.06.94-2.06 2.06-.94-2.06-.94-.94-2.06-.94 2.06-2.06.94z\"/><path d=\"M17.41 7.96l-1.37-1.37c-.4-.4-.92-.59-1.43-.59-.52 0-1.04.2-1.43.59L10.3 9.45l-7.72 7.72c-.78.78-.78 2.05 0 2.83L4 21.41c.39.39.9.59 1.41.59.51 0 1.02-.2 1.41-.59l7.78-7.78 2.81-2.81c.8-.78.8-2.07 0-2.86zM5.41 20L4 18.59l7.72-7.72 1.47 1.35L5.41 20z\"/>\n",
       "  </svg>\n",
       "      </button>\n",
       "      \n",
       "  <style>\n",
       "    .colab-df-container {\n",
       "      display:flex;\n",
       "      flex-wrap:wrap;\n",
       "      gap: 12px;\n",
       "    }\n",
       "\n",
       "    .colab-df-convert {\n",
       "      background-color: #E8F0FE;\n",
       "      border: none;\n",
       "      border-radius: 50%;\n",
       "      cursor: pointer;\n",
       "      display: none;\n",
       "      fill: #1967D2;\n",
       "      height: 32px;\n",
       "      padding: 0 0 0 0;\n",
       "      width: 32px;\n",
       "    }\n",
       "\n",
       "    .colab-df-convert:hover {\n",
       "      background-color: #E2EBFA;\n",
       "      box-shadow: 0px 1px 2px rgba(60, 64, 67, 0.3), 0px 1px 3px 1px rgba(60, 64, 67, 0.15);\n",
       "      fill: #174EA6;\n",
       "    }\n",
       "\n",
       "    [theme=dark] .colab-df-convert {\n",
       "      background-color: #3B4455;\n",
       "      fill: #D2E3FC;\n",
       "    }\n",
       "\n",
       "    [theme=dark] .colab-df-convert:hover {\n",
       "      background-color: #434B5C;\n",
       "      box-shadow: 0px 1px 3px 1px rgba(0, 0, 0, 0.15);\n",
       "      filter: drop-shadow(0px 1px 2px rgba(0, 0, 0, 0.3));\n",
       "      fill: #FFFFFF;\n",
       "    }\n",
       "  </style>\n",
       "\n",
       "      <script>\n",
       "        const buttonEl =\n",
       "          document.querySelector('#df-c500eab7-01de-401a-a960-6c9c837fa13c button.colab-df-convert');\n",
       "        buttonEl.style.display =\n",
       "          google.colab.kernel.accessAllowed ? 'block' : 'none';\n",
       "\n",
       "        async function convertToInteractive(key) {\n",
       "          const element = document.querySelector('#df-c500eab7-01de-401a-a960-6c9c837fa13c');\n",
       "          const dataTable =\n",
       "            await google.colab.kernel.invokeFunction('convertToInteractive',\n",
       "                                                     [key], {});\n",
       "          if (!dataTable) return;\n",
       "\n",
       "          const docLinkHtml = 'Like what you see? Visit the ' +\n",
       "            '<a target=\"_blank\" href=https://colab.research.google.com/notebooks/data_table.ipynb>data table notebook</a>'\n",
       "            + ' to learn more about interactive tables.';\n",
       "          element.innerHTML = '';\n",
       "          dataTable['output_type'] = 'display_data';\n",
       "          await google.colab.output.renderOutput(dataTable, element);\n",
       "          const docLink = document.createElement('div');\n",
       "          docLink.innerHTML = docLinkHtml;\n",
       "          element.appendChild(docLink);\n",
       "        }\n",
       "      </script>\n",
       "    </div>\n",
       "  </div>\n",
       "  "
      ],
      "text/plain": [
       "                   survived       age      fare     alone  family_members  \\\n",
       "survived           1.000000 -0.060203  0.238147 -0.154285        0.020555   \n",
       "age               -0.060203  1.000000  0.173183  0.116675       -0.196996   \n",
       "fare               0.238147  0.173183  1.000000 -0.469704        0.381755   \n",
       "alone             -0.154285  0.116675 -0.469704  1.000000       -0.688864   \n",
       "family_members     0.020555 -0.196996  0.381755 -0.688864        1.000000   \n",
       "passenger_class_1  0.208166  0.362587  0.679077 -0.126551       -0.029656   \n",
       "passenger_class_2  0.062279 -0.014193 -0.027350 -0.035075       -0.039976   \n",
       "passenger_class_3 -0.231169 -0.302093 -0.565151  0.138250        0.058430   \n",
       "sex_female         0.404020 -0.057397  0.250265 -0.284537        0.188583   \n",
       "sex_male          -0.404020  0.057397 -0.250265  0.284537       -0.188583   \n",
       "embark_town_C      0.096513  0.076179  0.281942 -0.107874       -0.036553   \n",
       "embark_town_Q     -0.012730 -0.012718 -0.190547  0.127214       -0.087190   \n",
       "embark_town_S     -0.082581 -0.064267 -0.132273  0.011527        0.089503   \n",
       "\n",
       "                   passenger_class_1  passenger_class_2  passenger_class_3  \\\n",
       "survived                    0.208166           0.062279          -0.231169   \n",
       "age                         0.362587          -0.014193          -0.302093   \n",
       "fare                        0.679077          -0.027350          -0.565151   \n",
       "alone                      -0.126551          -0.035075           0.138250   \n",
       "family_members             -0.029656          -0.039976           0.058430   \n",
       "passenger_class_1           1.000000          -0.296526          -0.622172   \n",
       "passenger_class_2          -0.296526           1.000000          -0.563180   \n",
       "passenger_class_3          -0.622172          -0.563180           1.000000   \n",
       "sex_female                  0.107371           0.028862          -0.116562   \n",
       "sex_male                   -0.107371          -0.028862           0.116562   \n",
       "embark_town_C               0.325722          -0.134675          -0.171430   \n",
       "embark_town_Q              -0.166101          -0.121973           0.243706   \n",
       "embark_town_S              -0.187353           0.197973          -0.000181   \n",
       "\n",
       "                   sex_female  sex_male  embark_town_C  embark_town_Q  \\\n",
       "survived             0.404020 -0.404020       0.096513      -0.012730   \n",
       "age                 -0.057397  0.057397       0.076179      -0.012718   \n",
       "fare                 0.250265 -0.250265       0.281942      -0.190547   \n",
       "alone               -0.284537  0.284537      -0.107874       0.127214   \n",
       "family_members       0.188583 -0.188583      -0.036553      -0.087190   \n",
       "passenger_class_1    0.107371 -0.107371       0.325722      -0.166101   \n",
       "passenger_class_2    0.028862 -0.028862      -0.134675      -0.121973   \n",
       "passenger_class_3   -0.116562  0.116562      -0.171430       0.243706   \n",
       "sex_female           1.000000 -1.000000       0.066564       0.088651   \n",
       "sex_male            -1.000000  1.000000      -0.066564      -0.088651   \n",
       "embark_town_C        0.066564 -0.066564       1.000000      -0.164166   \n",
       "embark_town_Q        0.088651 -0.088651      -0.164166       1.000000   \n",
       "embark_town_S       -0.119504  0.119504      -0.775441      -0.489874   \n",
       "\n",
       "                   embark_town_S  \n",
       "survived               -0.082581  \n",
       "age                    -0.064267  \n",
       "fare                   -0.132273  \n",
       "alone                   0.011527  \n",
       "family_members          0.089503  \n",
       "passenger_class_1      -0.187353  \n",
       "passenger_class_2       0.197973  \n",
       "passenger_class_3      -0.000181  \n",
       "sex_female             -0.119504  \n",
       "sex_male                0.119504  \n",
       "embark_town_C          -0.775441  \n",
       "embark_town_Q          -0.489874  \n",
       "embark_town_S           1.000000  "
      ]
     },
     "execution_count": 44,
     "metadata": {},
     "output_type": "execute_result"
    }
   ],
   "source": [
    "# Get a correlation matrix of the features:\n",
    "titanic_df.corr()"
   ]
  },
  {
   "cell_type": "markdown",
   "metadata": {},
   "source": [
    "## Looking feature correlations:"
   ]
  },
  {
   "cell_type": "code",
   "execution_count": null,
   "metadata": {
    "colab": {
     "base_uri": "https://localhost:8080/",
     "height": 625
    },
    "executionInfo": {
     "elapsed": 1386,
     "status": "ok",
     "timestamp": 1668868688487,
     "user": {
      "displayName": "Evan Carr Homeschool",
      "userId": "06914599846009526611"
     },
     "user_tz": 300
    },
    "id": "PnnipaMyHNc4",
    "outputId": "45556000-b148-4c2c-8c27-02041fa1bfc7"
   },
   "outputs": [
    {
     "data": {
      "image/png": "[encoded data removed]",
      "text/plain": [
       "<Figure size 648x648 with 2 Axes>"
      ]
     },
     "metadata": {
      "needs_background": "light"
     },
     "output_type": "display_data"
    }
   ],
   "source": [
    "# Plot a correlation matrix:\n",
    "plt.figure(figsize=(9,9))\n",
    "sns.heatmap(titanic_df.corr(), annot=True, fmt='.1f', cmap='coolwarm')\n",
    "plt.show()"
   ]
  },
  {
   "cell_type": "markdown",
   "metadata": {},
   "source": [
    "## Train-test splitting:"
   ]
  },
  {
   "cell_type": "code",
   "execution_count": null,
   "metadata": {
    "id": "--1mnqKgHNaU"
   },
   "outputs": [],
   "source": [
    "# Split the data into training and test sets:\n",
    "train_in, test_in, train_tar, test_tar = train_test_split(titanic_df.drop('survived', axis = 1), \n",
    "                                                          titanic_df['survived'], test_size=0.2, \n",
    "                                                          random_state=42)"
   ]
  },
  {
   "cell_type": "markdown",
   "metadata": {},
   "source": [
    "## Determining optimal hyperparameter values:"
   ]
  },
  {
   "cell_type": "code",
   "execution_count": null,
   "metadata": {
    "id": "tUNC9jFUWUO4"
   },
   "outputs": [],
   "source": [
    "predictions = xgb_model.predict(test_in)"
   ]
  },
  {
   "cell_type": "code",
   "execution_count": null,
   "metadata": {
    "id": "FeMJeNw6WUMa"
   },
   "outputs": [],
   "source": [
    "rmse = mean_squared_error\n",
    "\n",
    "def test_parameters(**params):\n",
    "    model = XGBClassifier(objective=\"reg:squarederror\", n_jobs=-1, random_state=42, **params)\n",
    "    model.fit(train_in, train_tar)\n",
    "    train_rmse = rmse(model.predict(train_in), train_tar)\n",
    "    val_rmse = rmse(model.predict(test_in), test_tar)\n",
    "    return train_rmse, val_rmse\n",
    "\n",
    "def compare_number_estimators(iterations, estimator_increment):\n",
    "  comparison_num_estimators = []\n",
    "  estimator_count = 10\n",
    "  train_rmse = 0\n",
    "  val_rmse = 0\n",
    "\n",
    "  for iteration in range(iterations):\n",
    "      train_rmse, val_rmse = test_parameters(n_estimators = estimator_count)\n",
    "      comparison_num_estimators.append([iteration, estimator_count, train_rmse, val_rmse])\n",
    "      print(f\"XGBoost on iteration number {iteration + 1} of {iterations} with {estimator_count} estimators\")\n",
    "      print(f\"received a combined training RMSE of {train_rmse: .2f}\")\n",
    "      print(f\"and a combined validation RMSE of {val_rmse: .2f}. \\n\")\n",
    "      estimator_count += estimator_increment\n",
    "\n",
    "  comparison_num_estimators = pd.DataFrame(comparison_num_estimators, columns = ['iteration', 'num_estimators', \"training_rmse\", \"validation_rmse\"])\n",
    "  return(comparison_num_estimators)"
   ]
  },
  {
   "cell_type": "code",
   "execution_count": null,
   "metadata": {
    "colab": {
     "base_uri": "https://localhost:8080/",
     "height": 1000
    },
    "executionInfo": {
     "elapsed": 1639,
     "status": "ok",
     "timestamp": 1668869391211,
     "user": {
      "displayName": "Evan Carr Homeschool",
      "userId": "06914599846009526611"
     },
     "user_tz": 300
    },
    "id": "YZhft3y3W2Bz",
    "outputId": "83b422b7-98c2-47f1-d934-853535819807"
   },
   "outputs": [
    {
     "name": "stdout",
     "output_type": "stream",
     "text": [
      "XGBoost on iteration number 1 of 10 with 10 estimators\n",
      "received a combined training RMSE of  0.19\n",
      "and a combined validation RMSE of  0.21. \n",
      "\n",
      "XGBoost on iteration number 2 of 10 with 20 estimators\n",
      "received a combined training RMSE of  0.19\n",
      "and a combined validation RMSE of  0.22. \n",
      "\n",
      "XGBoost on iteration number 3 of 10 with 30 estimators\n",
      "received a combined training RMSE of  0.18\n",
      "and a combined validation RMSE of  0.22. \n",
      "\n",
      "XGBoost on iteration number 4 of 10 with 40 estimators\n",
      "received a combined training RMSE of  0.18\n",
      "and a combined validation RMSE of  0.21. \n",
      "\n",
      "XGBoost on iteration number 5 of 10 with 50 estimators\n",
      "received a combined training RMSE of  0.17\n",
      "and a combined validation RMSE of  0.21. \n",
      "\n",
      "XGBoost on iteration number 6 of 10 with 60 estimators\n",
      "received a combined training RMSE of  0.17\n",
      "and a combined validation RMSE of  0.21. \n",
      "\n",
      "XGBoost on iteration number 7 of 10 with 70 estimators\n",
      "received a combined training RMSE of  0.17\n",
      "and a combined validation RMSE of  0.21. \n",
      "\n",
      "XGBoost on iteration number 8 of 10 with 80 estimators\n",
      "received a combined training RMSE of  0.17\n",
      "and a combined validation RMSE of  0.20. \n",
      "\n",
      "XGBoost on iteration number 9 of 10 with 90 estimators\n",
      "received a combined training RMSE of  0.16\n",
      "and a combined validation RMSE of  0.21. \n",
      "\n",
      "XGBoost on iteration number 10 of 10 with 100 estimators\n",
      "received a combined training RMSE of  0.16\n",
      "and a combined validation RMSE of  0.21. \n",
      "\n"
     ]
    },
    {
     "data": {
      "text/html": [
       "\n",
       "  <div id=\"df-72335c99-8c89-4e17-8e1b-db6b88339c19\">\n",
       "    <div class=\"colab-df-container\">\n",
       "      <div>\n",
       "<style scoped>\n",
       "    .dataframe tbody tr th:only-of-type {\n",
       "        vertical-align: middle;\n",
       "    }\n",
       "\n",
       "    .dataframe tbody tr th {\n",
       "        vertical-align: top;\n",
       "    }\n",
       "\n",
       "    .dataframe thead th {\n",
       "        text-align: right;\n",
       "    }\n",
       "</style>\n",
       "<table border=\"1\" class=\"dataframe\">\n",
       "  <thead>\n",
       "    <tr style=\"text-align: right;\">\n",
       "      <th></th>\n",
       "      <th>iteration</th>\n",
       "      <th>num_estimators</th>\n",
       "      <th>training_rmse</th>\n",
       "      <th>validation_rmse</th>\n",
       "    </tr>\n",
       "  </thead>\n",
       "  <tbody>\n",
       "    <tr>\n",
       "      <th>0</th>\n",
       "      <td>0</td>\n",
       "      <td>10</td>\n",
       "      <td>0.190067</td>\n",
       "      <td>0.213740</td>\n",
       "    </tr>\n",
       "    <tr>\n",
       "      <th>1</th>\n",
       "      <td>1</td>\n",
       "      <td>20</td>\n",
       "      <td>0.185291</td>\n",
       "      <td>0.217557</td>\n",
       "    </tr>\n",
       "    <tr>\n",
       "      <th>2</th>\n",
       "      <td>2</td>\n",
       "      <td>30</td>\n",
       "      <td>0.180516</td>\n",
       "      <td>0.217557</td>\n",
       "    </tr>\n",
       "    <tr>\n",
       "      <th>3</th>\n",
       "      <td>3</td>\n",
       "      <td>40</td>\n",
       "      <td>0.176695</td>\n",
       "      <td>0.213740</td>\n",
       "    </tr>\n",
       "    <tr>\n",
       "      <th>4</th>\n",
       "      <td>4</td>\n",
       "      <td>50</td>\n",
       "      <td>0.170965</td>\n",
       "      <td>0.209924</td>\n",
       "    </tr>\n",
       "    <tr>\n",
       "      <th>5</th>\n",
       "      <td>5</td>\n",
       "      <td>60</td>\n",
       "      <td>0.170010</td>\n",
       "      <td>0.209924</td>\n",
       "    </tr>\n",
       "    <tr>\n",
       "      <th>6</th>\n",
       "      <td>6</td>\n",
       "      <td>70</td>\n",
       "      <td>0.166189</td>\n",
       "      <td>0.209924</td>\n",
       "    </tr>\n",
       "    <tr>\n",
       "      <th>7</th>\n",
       "      <td>7</td>\n",
       "      <td>80</td>\n",
       "      <td>0.165234</td>\n",
       "      <td>0.202290</td>\n",
       "    </tr>\n",
       "    <tr>\n",
       "      <th>8</th>\n",
       "      <td>8</td>\n",
       "      <td>90</td>\n",
       "      <td>0.159503</td>\n",
       "      <td>0.206107</td>\n",
       "    </tr>\n",
       "    <tr>\n",
       "      <th>9</th>\n",
       "      <td>9</td>\n",
       "      <td>100</td>\n",
       "      <td>0.159503</td>\n",
       "      <td>0.209924</td>\n",
       "    </tr>\n",
       "  </tbody>\n",
       "</table>\n",
       "</div>\n",
       "      <button class=\"colab-df-convert\" onclick=\"convertToInteractive('df-72335c99-8c89-4e17-8e1b-db6b88339c19')\"\n",
       "              title=\"Convert this dataframe to an interactive table.\"\n",
       "              style=\"display:none;\">\n",
       "        \n",
       "  <svg xmlns=\"http://www.w3.org/2000/svg\" height=\"24px\"viewBox=\"0 0 24 24\"\n",
       "       width=\"24px\">\n",
       "    <path d=\"M0 0h24v24H0V0z\" fill=\"none\"/>\n",
       "    <path d=\"M18.56 5.44l.94 2.06.94-2.06 2.06-.94-2.06-.94-.94-2.06-.94 2.06-2.06.94zm-11 1L8.5 8.5l.94-2.06 2.06-.94-2.06-.94L8.5 2.5l-.94 2.06-2.06.94zm10 10l.94 2.06.94-2.06 2.06-.94-2.06-.94-.94-2.06-.94 2.06-2.06.94z\"/><path d=\"M17.41 7.96l-1.37-1.37c-.4-.4-.92-.59-1.43-.59-.52 0-1.04.2-1.43.59L10.3 9.45l-7.72 7.72c-.78.78-.78 2.05 0 2.83L4 21.41c.39.39.9.59 1.41.59.51 0 1.02-.2 1.41-.59l7.78-7.78 2.81-2.81c.8-.78.8-2.07 0-2.86zM5.41 20L4 18.59l7.72-7.72 1.47 1.35L5.41 20z\"/>\n",
       "  </svg>\n",
       "      </button>\n",
       "      \n",
       "  <style>\n",
       "    .colab-df-container {\n",
       "      display:flex;\n",
       "      flex-wrap:wrap;\n",
       "      gap: 12px;\n",
       "    }\n",
       "\n",
       "    .colab-df-convert {\n",
       "      background-color: #E8F0FE;\n",
       "      border: none;\n",
       "      border-radius: 50%;\n",
       "      cursor: pointer;\n",
       "      display: none;\n",
       "      fill: #1967D2;\n",
       "      height: 32px;\n",
       "      padding: 0 0 0 0;\n",
       "      width: 32px;\n",
       "    }\n",
       "\n",
       "    .colab-df-convert:hover {\n",
       "      background-color: #E2EBFA;\n",
       "      box-shadow: 0px 1px 2px rgba(60, 64, 67, 0.3), 0px 1px 3px 1px rgba(60, 64, 67, 0.15);\n",
       "      fill: #174EA6;\n",
       "    }\n",
       "\n",
       "    [theme=dark] .colab-df-convert {\n",
       "      background-color: #3B4455;\n",
       "      fill: #D2E3FC;\n",
       "    }\n",
       "\n",
       "    [theme=dark] .colab-df-convert:hover {\n",
       "      background-color: #434B5C;\n",
       "      box-shadow: 0px 1px 3px 1px rgba(0, 0, 0, 0.15);\n",
       "      filter: drop-shadow(0px 1px 2px rgba(0, 0, 0, 0.3));\n",
       "      fill: #FFFFFF;\n",
       "    }\n",
       "  </style>\n",
       "\n",
       "      <script>\n",
       "        const buttonEl =\n",
       "          document.querySelector('#df-72335c99-8c89-4e17-8e1b-db6b88339c19 button.colab-df-convert');\n",
       "        buttonEl.style.display =\n",
       "          google.colab.kernel.accessAllowed ? 'block' : 'none';\n",
       "\n",
       "        async function convertToInteractive(key) {\n",
       "          const element = document.querySelector('#df-72335c99-8c89-4e17-8e1b-db6b88339c19');\n",
       "          const dataTable =\n",
       "            await google.colab.kernel.invokeFunction('convertToInteractive',\n",
       "                                                     [key], {});\n",
       "          if (!dataTable) return;\n",
       "\n",
       "          const docLinkHtml = 'Like what you see? Visit the ' +\n",
       "            '<a target=\"_blank\" href=https://colab.research.google.com/notebooks/data_table.ipynb>data table notebook</a>'\n",
       "            + ' to learn more about interactive tables.';\n",
       "          element.innerHTML = '';\n",
       "          dataTable['output_type'] = 'display_data';\n",
       "          await google.colab.output.renderOutput(dataTable, element);\n",
       "          const docLink = document.createElement('div');\n",
       "          docLink.innerHTML = docLinkHtml;\n",
       "          element.appendChild(docLink);\n",
       "        }\n",
       "      </script>\n",
       "    </div>\n",
       "  </div>\n",
       "  "
      ],
      "text/plain": [
       "   iteration  num_estimators  training_rmse  validation_rmse\n",
       "0          0              10       0.190067         0.213740\n",
       "1          1              20       0.185291         0.217557\n",
       "2          2              30       0.180516         0.217557\n",
       "3          3              40       0.176695         0.213740\n",
       "4          4              50       0.170965         0.209924\n",
       "5          5              60       0.170010         0.209924\n",
       "6          6              70       0.166189         0.209924\n",
       "7          7              80       0.165234         0.202290\n",
       "8          8              90       0.159503         0.206107\n",
       "9          9             100       0.159503         0.209924"
      ]
     },
     "execution_count": 60,
     "metadata": {},
     "output_type": "execute_result"
    }
   ],
   "source": [
    "compare_number_estimators(10, 10)"
   ]
  },
  {
   "cell_type": "code",
   "execution_count": null,
   "metadata": {
    "id": "iYl7HPKPXJVI"
   },
   "outputs": [],
   "source": [
    "def test_accuracy_estimators(intial_num_estimators, num_estimators_increment, \n",
    "                  train_inputs, train_targets, test_inputs, test_targets):\n",
    "    num_estimators = intial_num_estimators\n",
    "    accuracy = []\n",
    "    while num_estimators <= 200:\n",
    "        model = XGBClassifier(n_estimators=num_estimators)\n",
    "        model.fit(train_inputs, train_targets)\n",
    "        print(f'Accuracy: {model.score(test_inputs, test_targets)*100: .2f}% | n_estimators =  {num_estimators}')\n",
    "        accuracy.append(model.score(test_inputs, test_targets))\n",
    "        num_estimators += num_estimators_increment"
   ]
  },
  {
   "cell_type": "code",
   "execution_count": null,
   "metadata": {
    "colab": {
     "base_uri": "https://localhost:8080/"
    },
    "executionInfo": {
     "elapsed": 4414,
     "status": "ok",
     "timestamp": 1668870714629,
     "user": {
      "displayName": "Evan Carr Homeschool",
      "userId": "06914599846009526611"
     },
     "user_tz": 300
    },
    "id": "5QmlC90AZ3Fc",
    "outputId": "7efce7bc-017b-4dee-bbd3-59619f9bc4cb"
   },
   "outputs": [
    {
     "name": "stdout",
     "output_type": "stream",
     "text": [
      "Accuracy:  78.63% | n_estimators =  10\n",
      "Accuracy:  78.63% | n_estimators =  14\n",
      "Accuracy:  78.63% | n_estimators =  18\n",
      "Accuracy:  78.63% | n_estimators =  22\n",
      "Accuracy:  78.24% | n_estimators =  26\n",
      "Accuracy:  78.63% | n_estimators =  30\n",
      "Accuracy:  77.86% | n_estimators =  34\n",
      "Accuracy:  78.63% | n_estimators =  38\n",
      "Accuracy:  78.63% | n_estimators =  42\n",
      "Accuracy:  79.01% | n_estimators =  46\n",
      "Accuracy:  79.01% | n_estimators =  50\n",
      "Accuracy:  79.01% | n_estimators =  54\n",
      "Accuracy:  79.01% | n_estimators =  58\n",
      "Accuracy:  78.24% | n_estimators =  62\n",
      "Accuracy:  78.63% | n_estimators =  66\n",
      "Accuracy:  78.63% | n_estimators =  70\n",
      "Accuracy:  78.24% | n_estimators =  74\n",
      "Accuracy:  78.63% | n_estimators =  78\n",
      "Accuracy:  78.63% | n_estimators =  82\n",
      "Accuracy:  77.48% | n_estimators =  86\n",
      "Accuracy:  77.10% | n_estimators =  90\n",
      "Accuracy:  77.48% | n_estimators =  94\n",
      "Accuracy:  77.10% | n_estimators =  98\n",
      "Accuracy:  76.72% | n_estimators =  102\n",
      "Accuracy:  76.34% | n_estimators =  106\n",
      "Accuracy:  76.34% | n_estimators =  110\n",
      "Accuracy:  75.57% | n_estimators =  114\n",
      "Accuracy:  75.95% | n_estimators =  118\n",
      "Accuracy:  75.95% | n_estimators =  122\n",
      "Accuracy:  76.72% | n_estimators =  126\n",
      "Accuracy:  75.95% | n_estimators =  130\n",
      "Accuracy:  76.72% | n_estimators =  134\n",
      "Accuracy:  77.10% | n_estimators =  138\n",
      "Accuracy:  76.72% | n_estimators =  142\n",
      "Accuracy:  76.72% | n_estimators =  146\n",
      "Accuracy:  76.72% | n_estimators =  150\n",
      "Accuracy:  76.72% | n_estimators =  154\n",
      "Accuracy:  76.72% | n_estimators =  158\n",
      "Accuracy:  76.34% | n_estimators =  162\n",
      "Accuracy:  76.34% | n_estimators =  166\n",
      "Accuracy:  76.34% | n_estimators =  170\n",
      "Accuracy:  76.34% | n_estimators =  174\n",
      "Accuracy:  76.72% | n_estimators =  178\n",
      "Accuracy:  77.10% | n_estimators =  182\n",
      "Accuracy:  76.72% | n_estimators =  186\n",
      "Accuracy:  76.72% | n_estimators =  190\n",
      "Accuracy:  77.10% | n_estimators =  194\n",
      "Accuracy:  76.72% | n_estimators =  198\n"
     ]
    }
   ],
   "source": [
    "test_accuracy_estimators(10, 4, train_in, train_tar, test_in, test_tar)"
   ]
  },
  {
   "cell_type": "markdown",
   "metadata": {
    "id": "upsfW3yDeTxV"
   },
   "source": [
    "### Best `n_estimators = 50`"
   ]
  },
  {
   "cell_type": "code",
   "execution_count": null,
   "metadata": {
    "id": "JrMXDmmZZ3C1"
   },
   "outputs": [],
   "source": [
    "# Function that tests the accuracy based on the learning rate parameter for a given number of epochs:\n",
    "\n",
    "def test_accuracy_learning_rate(epochs, initial_lr, lr_incrememnt, train_inputs, train_targets, test_inputs, test_targets):\n",
    "    lr = initial_lr\n",
    "    accuracy = []\n",
    "    count = 0\n",
    "    while count <= epochs+1:\n",
    "        model = XGBClassifier(learning_rate=lr)\n",
    "        model.fit(train_inputs, train_targets)\n",
    "        print(f'Accuracy: {model.score(test_inputs, test_targets)*100: .2f}% | learning_rate =  {lr: .4f}')\n",
    "        accuracy.append(model.score(test_inputs, test_targets))\n",
    "        lr += lr_incrememnt\n",
    "        count += 1"
   ]
  },
  {
   "cell_type": "code",
   "execution_count": null,
   "metadata": {
    "colab": {
     "base_uri": "https://localhost:8080/"
    },
    "executionInfo": {
     "elapsed": 8148,
     "status": "ok",
     "timestamp": 1668871127776,
     "user": {
      "displayName": "Evan Carr Homeschool",
      "userId": "06914599846009526611"
     },
     "user_tz": 300
    },
    "id": "6Jl2ktxFZ3AY",
    "outputId": "321f1570-5a4e-4aa2-8c92-6472192a7d64"
   },
   "outputs": [
    {
     "name": "stdout",
     "output_type": "stream",
     "text": [
      "Accuracy:  78.63% | learning_rate =   0.0010\n",
      "Accuracy:  78.63% | learning_rate =   0.0020\n",
      "Accuracy:  78.63% | learning_rate =   0.0030\n",
      "Accuracy:  78.63% | learning_rate =   0.0040\n",
      "Accuracy:  78.63% | learning_rate =   0.0050\n",
      "Accuracy:  78.63% | learning_rate =   0.0060\n",
      "Accuracy:  78.63% | learning_rate =   0.0070\n",
      "Accuracy:  78.63% | learning_rate =   0.0080\n",
      "Accuracy:  78.63% | learning_rate =   0.0090\n",
      "Accuracy:  78.63% | learning_rate =   0.0100\n",
      "Accuracy:  78.63% | learning_rate =   0.0110\n",
      "Accuracy:  78.63% | learning_rate =   0.0120\n",
      "Accuracy:  78.63% | learning_rate =   0.0130\n",
      "Accuracy:  78.63% | learning_rate =   0.0140\n",
      "Accuracy:  78.63% | learning_rate =   0.0150\n",
      "Accuracy:  78.63% | learning_rate =   0.0160\n",
      "Accuracy:  78.63% | learning_rate =   0.0170\n",
      "Accuracy:  78.63% | learning_rate =   0.0180\n",
      "Accuracy:  78.63% | learning_rate =   0.0190\n",
      "Accuracy:  78.63% | learning_rate =   0.0200\n",
      "Accuracy:  78.63% | learning_rate =   0.0210\n",
      "Accuracy:  78.63% | learning_rate =   0.0220\n",
      "Accuracy:  78.63% | learning_rate =   0.0230\n",
      "Accuracy:  78.63% | learning_rate =   0.0240\n",
      "Accuracy:  78.63% | learning_rate =   0.0250\n",
      "Accuracy:  78.63% | learning_rate =   0.0260\n",
      "Accuracy:  78.63% | learning_rate =   0.0270\n",
      "Accuracy:  78.63% | learning_rate =   0.0280\n",
      "Accuracy:  78.24% | learning_rate =   0.0290\n",
      "Accuracy:  78.24% | learning_rate =   0.0300\n",
      "Accuracy:  78.24% | learning_rate =   0.0310\n",
      "Accuracy:  78.24% | learning_rate =   0.0320\n",
      "Accuracy:  78.63% | learning_rate =   0.0330\n",
      "Accuracy:  78.24% | learning_rate =   0.0340\n",
      "Accuracy:  77.86% | learning_rate =   0.0350\n",
      "Accuracy:  77.86% | learning_rate =   0.0360\n",
      "Accuracy:  78.24% | learning_rate =   0.0370\n",
      "Accuracy:  78.63% | learning_rate =   0.0380\n",
      "Accuracy:  78.63% | learning_rate =   0.0390\n",
      "Accuracy:  78.63% | learning_rate =   0.0400\n",
      "Accuracy:  78.24% | learning_rate =   0.0410\n",
      "Accuracy:  78.24% | learning_rate =   0.0420\n",
      "Accuracy:  78.63% | learning_rate =   0.0430\n",
      "Accuracy:  79.39% | learning_rate =   0.0440\n",
      "Accuracy:  77.86% | learning_rate =   0.0450\n",
      "Accuracy:  78.63% | learning_rate =   0.0460\n",
      "Accuracy:  78.63% | learning_rate =   0.0470\n",
      "Accuracy:  79.01% | learning_rate =   0.0480\n",
      "Accuracy:  79.01% | learning_rate =   0.0490\n",
      "Accuracy:  79.01% | learning_rate =   0.0500\n",
      "Accuracy:  78.63% | learning_rate =   0.0510\n",
      "Accuracy:  79.01% | learning_rate =   0.0520\n",
      "Accuracy:  78.24% | learning_rate =   0.0530\n",
      "Accuracy:  78.63% | learning_rate =   0.0540\n",
      "Accuracy:  78.24% | learning_rate =   0.0550\n",
      "Accuracy:  78.63% | learning_rate =   0.0560\n",
      "Accuracy:  78.24% | learning_rate =   0.0570\n",
      "Accuracy:  78.24% | learning_rate =   0.0580\n",
      "Accuracy:  77.86% | learning_rate =   0.0590\n",
      "Accuracy:  77.86% | learning_rate =   0.0600\n",
      "Accuracy:  77.86% | learning_rate =   0.0610\n",
      "Accuracy:  78.24% | learning_rate =   0.0620\n",
      "Accuracy:  78.63% | learning_rate =   0.0630\n",
      "Accuracy:  78.63% | learning_rate =   0.0640\n",
      "Accuracy:  77.48% | learning_rate =   0.0650\n",
      "Accuracy:  77.86% | learning_rate =   0.0660\n",
      "Accuracy:  77.48% | learning_rate =   0.0670\n",
      "Accuracy:  77.86% | learning_rate =   0.0680\n",
      "Accuracy:  77.86% | learning_rate =   0.0690\n",
      "Accuracy:  77.86% | learning_rate =   0.0700\n",
      "Accuracy:  77.86% | learning_rate =   0.0710\n",
      "Accuracy:  78.63% | learning_rate =   0.0720\n",
      "Accuracy:  77.86% | learning_rate =   0.0730\n",
      "Accuracy:  78.63% | learning_rate =   0.0740\n",
      "Accuracy:  78.63% | learning_rate =   0.0750\n",
      "Accuracy:  78.24% | learning_rate =   0.0760\n",
      "Accuracy:  78.24% | learning_rate =   0.0770\n",
      "Accuracy:  78.24% | learning_rate =   0.0780\n",
      "Accuracy:  77.86% | learning_rate =   0.0790\n",
      "Accuracy:  78.24% | learning_rate =   0.0800\n",
      "Accuracy:  78.63% | learning_rate =   0.0810\n",
      "Accuracy:  78.24% | learning_rate =   0.0820\n",
      "Accuracy:  78.63% | learning_rate =   0.0830\n",
      "Accuracy:  78.63% | learning_rate =   0.0840\n",
      "Accuracy:  77.48% | learning_rate =   0.0850\n",
      "Accuracy:  78.24% | learning_rate =   0.0860\n",
      "Accuracy:  78.24% | learning_rate =   0.0870\n",
      "Accuracy:  78.24% | learning_rate =   0.0880\n",
      "Accuracy:  77.48% | learning_rate =   0.0890\n",
      "Accuracy:  77.86% | learning_rate =   0.0900\n",
      "Accuracy:  77.86% | learning_rate =   0.0910\n",
      "Accuracy:  79.01% | learning_rate =   0.0920\n",
      "Accuracy:  78.24% | learning_rate =   0.0930\n",
      "Accuracy:  77.48% | learning_rate =   0.0940\n",
      "Accuracy:  77.48% | learning_rate =   0.0950\n",
      "Accuracy:  78.24% | learning_rate =   0.0960\n",
      "Accuracy:  77.86% | learning_rate =   0.0970\n",
      "Accuracy:  78.63% | learning_rate =   0.0980\n",
      "Accuracy:  77.48% | learning_rate =   0.0990\n",
      "Accuracy:  77.10% | learning_rate =   0.1000\n",
      "Accuracy:  77.86% | learning_rate =   0.1010\n",
      "Accuracy:  77.86% | learning_rate =   0.1020\n"
     ]
    }
   ],
   "source": [
    "test_accuracy_learning_rate(100, 0.001, 0.001, train_in, train_tar, test_in, test_tar)"
   ]
  },
  {
   "cell_type": "markdown",
   "metadata": {
    "id": "4-sJFYhQeNBl"
   },
   "source": [
    "### Best `lr = 0.05`"
   ]
  },
  {
   "cell_type": "code",
   "execution_count": null,
   "metadata": {
    "id": "Ulmrg3FWZ297"
   },
   "outputs": [],
   "source": [
    "# Function to test the accuracy based on the max_depth parameter:\n",
    "def test_accuracy_max_depth(epochs, initial_max_depth, max_depth_increment, train_inputs, train_targets, test_inputs, test_targets):\n",
    "    max_depth = initial_max_depth\n",
    "    accuracy = []\n",
    "    count = 0\n",
    "    while count <= epochs+1:\n",
    "        model = XGBClassifier(max_depth=max_depth)\n",
    "        model.fit(train_inputs, train_targets)\n",
    "        print(f'Accuracy: {model.score(test_inputs, test_targets)*100: .2f}% | max_depth =  {max_depth}')\n",
    "        accuracy.append(model.score(test_inputs, test_targets))\n",
    "        max_depth += max_depth_increment\n",
    "        count += 1"
   ]
  },
  {
   "cell_type": "code",
   "execution_count": null,
   "metadata": {
    "colab": {
     "base_uri": "https://localhost:8080/"
    },
    "executionInfo": {
     "elapsed": 5515,
     "status": "ok",
     "timestamp": 1668871373628,
     "user": {
      "displayName": "Evan Carr Homeschool",
      "userId": "06914599846009526611"
     },
     "user_tz": 300
    },
    "id": "xcWnjnoRepIf",
    "outputId": "1165d94d-c17f-4fc1-f42c-9f9624fe0d83"
   },
   "outputs": [
    {
     "name": "stdout",
     "output_type": "stream",
     "text": [
      "Accuracy:  79.77% | max_depth =  2\n",
      "Accuracy:  74.43% | max_depth =  4\n",
      "Accuracy:  75.57% | max_depth =  6\n",
      "Accuracy:  73.28% | max_depth =  8\n",
      "Accuracy:  74.05% | max_depth =  10\n",
      "Accuracy:  74.81% | max_depth =  12\n",
      "Accuracy:  74.05% | max_depth =  14\n",
      "Accuracy:  74.05% | max_depth =  16\n",
      "Accuracy:  73.28% | max_depth =  18\n",
      "Accuracy:  72.90% | max_depth =  20\n",
      "Accuracy:  72.90% | max_depth =  22\n",
      "Accuracy:  74.05% | max_depth =  24\n",
      "Accuracy:  72.90% | max_depth =  26\n",
      "Accuracy:  72.90% | max_depth =  28\n",
      "Accuracy:  72.90% | max_depth =  30\n",
      "Accuracy:  72.90% | max_depth =  32\n",
      "Accuracy:  72.90% | max_depth =  34\n",
      "Accuracy:  72.90% | max_depth =  36\n",
      "Accuracy:  72.90% | max_depth =  38\n",
      "Accuracy:  72.90% | max_depth =  40\n",
      "Accuracy:  72.90% | max_depth =  42\n",
      "Accuracy:  72.90% | max_depth =  44\n"
     ]
    }
   ],
   "source": [
    "test_accuracy_max_depth(20, 2, 2, train_in, train_tar, test_in, test_tar)"
   ]
  },
  {
   "cell_type": "markdown",
   "metadata": {
    "id": "Ry775HL4fEwU"
   },
   "source": [
    "### Best `max_depth = 2`"
   ]
  },
  {
   "cell_type": "code",
   "execution_count": null,
   "metadata": {
    "id": "Crrmw1cLewHd"
   },
   "outputs": [],
   "source": [
    "xgb_model = XGBClassifier(objective=\"reg:squarederror\", \n",
    "                          random_state=42, max_depth = 2,\n",
    "                          n_estimators = 50, lr = 0.05)"
   ]
  },
  {
   "cell_type": "markdown",
   "metadata": {},
   "source": [
    "## Defining the model:"
   ]
  },
  {
   "cell_type": "code",
   "execution_count": null,
   "metadata": {
    "colab": {
     "base_uri": "https://localhost:8080/"
    },
    "executionInfo": {
     "elapsed": 142,
     "status": "ok",
     "timestamp": 1668879172179,
     "user": {
      "displayName": "Evan Carr Homeschool",
      "userId": "06914599846009526611"
     },
     "user_tz": 300
    },
    "id": "5lpOHzQ18t14",
    "outputId": "369275bd-b161-4256-b654-ac38b8c07247"
   },
   "outputs": [
    {
     "data": {
      "text/plain": [
       "XGBClassifier(lr=0.05, max_depth=2, n_estimators=50,\n",
       "              objective='reg:squarederror', random_state=42)"
      ]
     },
     "execution_count": 98,
     "metadata": {},
     "output_type": "execute_result"
    }
   ],
   "source": [
    "xgb_model.fit(train_in, train_tar)"
   ]
  },
  {
   "cell_type": "code",
   "execution_count": null,
   "metadata": {
    "id": "HskSo1pr80DQ"
   },
   "outputs": [],
   "source": [
    "predictions = xgb_model.predict(test_in)"
   ]
  },
  {
   "cell_type": "markdown",
   "metadata": {},
   "source": [
    "## Top feature importance:"
   ]
  },
  {
   "cell_type": "code",
   "execution_count": null,
   "metadata": {
    "colab": {
     "base_uri": "https://localhost:8080/",
     "height": 501
    },
    "executionInfo": {
     "elapsed": 692,
     "status": "ok",
     "timestamp": 1668879457585,
     "user": {
      "displayName": "Evan Carr Homeschool",
      "userId": "06914599846009526611"
     },
     "user_tz": 300
    },
    "id": "mezgeMMA84NQ",
    "outputId": "b6573159-bc03-461a-ed1c-1aeff20e137f"
   },
   "outputs": [
    {
     "data": {
      "image/png": "[encoded data removed]",
      "text/plain": [
       "<Figure size 800x480 with 1 Axes>"
      ]
     },
     "metadata": {},
     "output_type": "display_data"
    }
   ],
   "source": [
    "# Plot the top 7 most important features in a horizontal bar graph by order of importance\n",
    "plt.style.use('classic')\n",
    "fig = plt.figure(figsize=(10,6))\n",
    "plt.barh(titanic_df.drop('survived', axis=1).columns[xgb_model.feature_importances_.argsort()][-7:],\n",
    "            xgb_model.feature_importances_[xgb_model.feature_importances_.argsort()][-7:])\n",
    "plt.title('Top 7 Most Important Features', pad=20, size=24)\n",
    "plt.xlabel('Feature Importance', size=18)\n",
    "plt.ylabel('Feature', size=18)\n",
    "plt.show()"
   ]
  },
  {
   "cell_type": "markdown",
   "metadata": {},
   "source": [
    "## Final accuracy for XGBoost:"
   ]
  },
  {
   "cell_type": "code",
   "execution_count": null,
   "metadata": {
    "colab": {
     "base_uri": "https://localhost:8080/"
    },
    "executionInfo": {
     "elapsed": 146,
     "status": "ok",
     "timestamp": 1668879508331,
     "user": {
      "displayName": "Evan Carr Homeschool",
      "userId": "06914599846009526611"
     },
     "user_tz": 300
    },
    "id": "rKZx_5I79PQW",
    "outputId": "9ce1858b-2419-447b-b4b0-9932492c4279"
   },
   "outputs": [
    {
     "name": "stdout",
     "output_type": "stream",
     "text": [
      "Accuracy:  78.24%\n"
     ]
    }
   ],
   "source": [
    "# Get the accuracy score of the model:\n",
    "print(f'Accuracy: {xgb_model.score(test_in, test_tar)*100: .2f}%')"
   ]
  }
 ],
 "metadata": {
  "colab": {
   "authorship_tag": "ABX9TyP9HYd4LduLOVcbXXi+mMvW",
   "provenance": []
  },
  "kernelspec": {
   "display_name": "Python 3 (ipykernel)",
   "language": "python",
   "name": "python3"
  },
  "language_info": {
   "codemirror_mode": {
    "name": "ipython",
    "version": 3
   },
   "file_extension": ".py",
   "mimetype": "text/x-python",
   "name": "python",
   "nbconvert_exporter": "python",
   "pygments_lexer": "ipython3",
   "version": "3.9.6"
  }
 },
 "nbformat": 4,
 "nbformat_minor": 1
}
